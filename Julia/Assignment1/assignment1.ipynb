{
 "cells": [
  {
   "cell_type": "markdown",
   "metadata": {},
   "source": [
    "## Entering Data"
   ]
  },
  {
   "cell_type": "code",
   "execution_count": 2,
   "metadata": {
    "scrolled": true
   },
   "outputs": [
    {
     "data": {
      "text/html": [
       "<table class=\"data-frame\"><thead><tr><th></th><th>Column1</th></tr><tr><th></th><th>Float64</th></tr></thead><tbody><p>100 rows × 1 columns</p><tr><th>1</th><td>2.52578</td></tr><tr><th>2</th><td>1.64818</td></tr><tr><th>3</th><td>3.53614</td></tr><tr><th>4</th><td>3.77024</td></tr><tr><th>5</th><td>3.03878</td></tr><tr><th>6</th><td>2.17282</td></tr><tr><th>7</th><td>3.61704</td></tr><tr><th>8</th><td>1.14447</td></tr><tr><th>9</th><td>3.22504</td></tr><tr><th>10</th><td>0.898248</td></tr><tr><th>11</th><td>0.425971</td></tr><tr><th>12</th><td>0.220322</td></tr><tr><th>13</th><td>0.99176</td></tr><tr><th>14</th><td>2.77482</td></tr><tr><th>15</th><td>0.297059</td></tr><tr><th>16</th><td>3.29275</td></tr><tr><th>17</th><td>1.17992</td></tr><tr><th>18</th><td>0.0548968</td></tr><tr><th>19</th><td>0.372537</td></tr><tr><th>20</th><td>3.32095</td></tr><tr><th>21</th><td>1.36388</td></tr><tr><th>22</th><td>0.660026</td></tr><tr><th>23</th><td>0.600339</td></tr><tr><th>24</th><td>1.96118</td></tr><tr><th>25</th><td>3.47192</td></tr><tr><th>26</th><td>1.17839</td></tr><tr><th>27</th><td>1.97627</td></tr><tr><th>28</th><td>1.74194</td></tr><tr><th>29</th><td>0.601494</td></tr><tr><th>30</th><td>2.23655</td></tr><tr><th>&vellip;</th><td>&vellip;</td></tr></tbody></table>"
      ],
      "text/latex": [
       "\\begin{tabular}{r|c}\n",
       "\t& Column1\\\\\n",
       "\t\\hline\n",
       "\t& Float64\\\\\n",
       "\t\\hline\n",
       "\t1 & 2.52578 \\\\\n",
       "\t2 & 1.64818 \\\\\n",
       "\t3 & 3.53614 \\\\\n",
       "\t4 & 3.77024 \\\\\n",
       "\t5 & 3.03878 \\\\\n",
       "\t6 & 2.17282 \\\\\n",
       "\t7 & 3.61704 \\\\\n",
       "\t8 & 1.14447 \\\\\n",
       "\t9 & 3.22504 \\\\\n",
       "\t10 & 0.898248 \\\\\n",
       "\t11 & 0.425971 \\\\\n",
       "\t12 & 0.220322 \\\\\n",
       "\t13 & 0.99176 \\\\\n",
       "\t14 & 2.77482 \\\\\n",
       "\t15 & 0.297059 \\\\\n",
       "\t16 & 3.29275 \\\\\n",
       "\t17 & 1.17992 \\\\\n",
       "\t18 & 0.0548968 \\\\\n",
       "\t19 & 0.372537 \\\\\n",
       "\t20 & 3.32095 \\\\\n",
       "\t21 & 1.36388 \\\\\n",
       "\t22 & 0.660026 \\\\\n",
       "\t23 & 0.600339 \\\\\n",
       "\t24 & 1.96118 \\\\\n",
       "\t25 & 3.47192 \\\\\n",
       "\t26 & 1.17839 \\\\\n",
       "\t27 & 1.97627 \\\\\n",
       "\t28 & 1.74194 \\\\\n",
       "\t29 & 0.601494 \\\\\n",
       "\t30 & 2.23655 \\\\\n",
       "\t$\\dots$ & $\\dots$ \\\\\n",
       "\\end{tabular}\n"
      ],
      "text/plain": [
       "\u001b[1m100×1 DataFrame\u001b[0m\n",
       "\u001b[1m Row \u001b[0m│\u001b[1m Column1  \u001b[0m\n",
       "\u001b[1m     \u001b[0m│\u001b[90m Float64  \u001b[0m\n",
       "─────┼──────────\n",
       "   1 │ 2.52578\n",
       "   2 │ 1.64818\n",
       "   3 │ 3.53614\n",
       "   4 │ 3.77024\n",
       "   5 │ 3.03878\n",
       "   6 │ 2.17282\n",
       "   7 │ 3.61704\n",
       "   8 │ 1.14447\n",
       "   9 │ 3.22504\n",
       "  10 │ 0.898248\n",
       "  11 │ 0.425971\n",
       "  ⋮  │    ⋮\n",
       "  91 │ 2.92111\n",
       "  92 │ 1.85447\n",
       "  93 │ 1.14261\n",
       "  94 │ 3.75259\n",
       "  95 │ 3.45525\n",
       "  96 │ 0.260376\n",
       "  97 │ 2.80034\n",
       "  98 │ 1.484\n",
       "  99 │ 2.42392\n",
       " 100 │ 1.212\n",
       "\u001b[36m 79 rows omitted\u001b[0m"
      ]
     },
     "execution_count": 2,
     "metadata": {},
     "output_type": "execute_result"
    }
   ],
   "source": [
    "using DataFrames, CSV, Statistics, Distributions\n",
    "\n",
    "df = CSV.read(\"data.csv\", DataFrame, header=false) # More Pythonic\n",
    "# df = DataFrame(CSV.File(\"data.csv\", header=false)) # Also works\n"
   ]
  },
  {
   "cell_type": "markdown",
   "metadata": {},
   "source": [
    "## Computing Pearson Classification Factor\n",
    "_Note: The moments here are not standardized, I have computed them as they were defined in my course. For general moment analyses, use standardized forms._\n"
   ]
  },
  {
   "cell_type": "code",
   "execution_count": 3,
   "metadata": {},
   "outputs": [
    {
     "name": "stdout",
     "output_type": "stream",
     "text": [
      "Pearson Classification Factor: 2.6231084931283677\n"
     ]
    }
   ],
   "source": [
    "data = df[!, \"Column1\"];\n",
    "N_data = length(data)\n",
    "M1 = Statistics.mean(data)\n",
    "X = data .- M1\n",
    "M2 = sum(X.^2)/(N_data-1)\n",
    "M3 = sum(X.^3)/(N_data-1)\n",
    "M4 = sum(X.^4)/(N_data-1)\n",
    "\n",
    "B1 = (M3^2)/ M2^3\n",
    "B2 = M4 / M2^2\n",
    "PCF = 6 + 3*B1 - 2*B2\n",
    "\n",
    "println(\"Pearson Classification Factor: $PCF\")"
   ]
  },
  {
   "cell_type": "markdown",
   "metadata": {},
   "source": [
    "## Entering Indices to be used in CLT\n",
    "Added 1 to each index as counting starts from 1 in Julia"
   ]
  },
  {
   "cell_type": "code",
   "execution_count": 4,
   "metadata": {},
   "outputs": [
    {
     "data": {
      "text/html": [
       "<table class=\"data-frame\"><thead><tr><th></th><th>Column1</th><th>Column2</th><th>Column3</th><th>Column4</th><th>Column5</th><th>Column6</th><th>Column7</th><th>Column8</th><th>Column9</th></tr><tr><th></th><th>Int64</th><th>Int64</th><th>Int64</th><th>Int64</th><th>Int64</th><th>Int64</th><th>Int64</th><th>Int64</th><th>Int64</th></tr></thead><tbody><p>100 rows × 10 columns (omitted printing of 1 columns)</p><tr><th>1</th><td>93</td><td>68</td><td>16</td><td>84</td><td>66</td><td>96</td><td>39</td><td>94</td><td>1</td></tr><tr><th>2</th><td>21</td><td>14</td><td>99</td><td>81</td><td>36</td><td>69</td><td>4</td><td>72</td><td>39</td></tr><tr><th>3</th><td>87</td><td>27</td><td>66</td><td>92</td><td>16</td><td>27</td><td>4</td><td>38</td><td>60</td></tr><tr><th>4</th><td>10</td><td>87</td><td>42</td><td>98</td><td>80</td><td>9</td><td>8</td><td>2</td><td>68</td></tr><tr><th>5</th><td>56</td><td>77</td><td>81</td><td>80</td><td>64</td><td>36</td><td>62</td><td>15</td><td>41</td></tr><tr><th>6</th><td>80</td><td>48</td><td>93</td><td>92</td><td>50</td><td>5</td><td>86</td><td>47</td><td>2</td></tr><tr><th>7</th><td>18</td><td>97</td><td>78</td><td>5</td><td>46</td><td>17</td><td>99</td><td>5</td><td>67</td></tr><tr><th>8</th><td>9</td><td>66</td><td>82</td><td>83</td><td>55</td><td>76</td><td>81</td><td>15</td><td>35</td></tr><tr><th>9</th><td>19</td><td>95</td><td>41</td><td>29</td><td>20</td><td>19</td><td>13</td><td>10</td><td>62</td></tr><tr><th>10</th><td>55</td><td>47</td><td>64</td><td>18</td><td>65</td><td>49</td><td>100</td><td>75</td><td>30</td></tr><tr><th>11</th><td>88</td><td>43</td><td>97</td><td>37</td><td>56</td><td>42</td><td>33</td><td>10</td><td>67</td></tr><tr><th>12</th><td>17</td><td>86</td><td>96</td><td>87</td><td>13</td><td>6</td><td>86</td><td>82</td><td>43</td></tr><tr><th>13</th><td>83</td><td>10</td><td>96</td><td>73</td><td>78</td><td>17</td><td>60</td><td>91</td><td>29</td></tr><tr><th>14</th><td>95</td><td>10</td><td>36</td><td>85</td><td>22</td><td>14</td><td>90</td><td>33</td><td>15</td></tr><tr><th>15</th><td>29</td><td>44</td><td>98</td><td>85</td><td>54</td><td>81</td><td>4</td><td>23</td><td>34</td></tr><tr><th>16</th><td>6</td><td>20</td><td>32</td><td>71</td><td>31</td><td>25</td><td>57</td><td>21</td><td>58</td></tr><tr><th>17</th><td>69</td><td>33</td><td>48</td><td>85</td><td>43</td><td>25</td><td>62</td><td>96</td><td>90</td></tr><tr><th>18</th><td>62</td><td>45</td><td>2</td><td>75</td><td>90</td><td>88</td><td>17</td><td>45</td><td>74</td></tr><tr><th>19</th><td>91</td><td>91</td><td>88</td><td>18</td><td>77</td><td>1</td><td>30</td><td>60</td><td>1</td></tr><tr><th>20</th><td>31</td><td>74</td><td>52</td><td>32</td><td>95</td><td>99</td><td>26</td><td>76</td><td>21</td></tr><tr><th>21</th><td>81</td><td>11</td><td>75</td><td>18</td><td>20</td><td>33</td><td>58</td><td>63</td><td>43</td></tr><tr><th>22</th><td>85</td><td>61</td><td>91</td><td>30</td><td>27</td><td>62</td><td>57</td><td>42</td><td>100</td></tr><tr><th>23</th><td>70</td><td>84</td><td>72</td><td>16</td><td>64</td><td>18</td><td>52</td><td>76</td><td>41</td></tr><tr><th>24</th><td>83</td><td>45</td><td>25</td><td>94</td><td>15</td><td>33</td><td>57</td><td>75</td><td>51</td></tr><tr><th>25</th><td>5</td><td>50</td><td>34</td><td>33</td><td>19</td><td>88</td><td>76</td><td>74</td><td>69</td></tr><tr><th>26</th><td>97</td><td>24</td><td>97</td><td>60</td><td>5</td><td>54</td><td>47</td><td>95</td><td>21</td></tr><tr><th>27</th><td>88</td><td>63</td><td>65</td><td>88</td><td>8</td><td>14</td><td>72</td><td>70</td><td>53</td></tr><tr><th>28</th><td>44</td><td>3</td><td>100</td><td>78</td><td>21</td><td>99</td><td>78</td><td>61</td><td>55</td></tr><tr><th>29</th><td>90</td><td>99</td><td>18</td><td>32</td><td>46</td><td>83</td><td>69</td><td>96</td><td>91</td></tr><tr><th>30</th><td>5</td><td>42</td><td>83</td><td>93</td><td>72</td><td>67</td><td>6</td><td>58</td><td>39</td></tr><tr><th>&vellip;</th><td>&vellip;</td><td>&vellip;</td><td>&vellip;</td><td>&vellip;</td><td>&vellip;</td><td>&vellip;</td><td>&vellip;</td><td>&vellip;</td><td>&vellip;</td></tr></tbody></table>"
      ],
      "text/latex": [
       "\\begin{tabular}{r|cccccccccc}\n",
       "\t& Column1 & Column2 & Column3 & Column4 & Column5 & Column6 & Column7 & Column8 & Column9 & \\\\\n",
       "\t\\hline\n",
       "\t& Int64 & Int64 & Int64 & Int64 & Int64 & Int64 & Int64 & Int64 & Int64 & \\\\\n",
       "\t\\hline\n",
       "\t1 & 93 & 68 & 16 & 84 & 66 & 96 & 39 & 94 & 1 & $\\dots$ \\\\\n",
       "\t2 & 21 & 14 & 99 & 81 & 36 & 69 & 4 & 72 & 39 & $\\dots$ \\\\\n",
       "\t3 & 87 & 27 & 66 & 92 & 16 & 27 & 4 & 38 & 60 & $\\dots$ \\\\\n",
       "\t4 & 10 & 87 & 42 & 98 & 80 & 9 & 8 & 2 & 68 & $\\dots$ \\\\\n",
       "\t5 & 56 & 77 & 81 & 80 & 64 & 36 & 62 & 15 & 41 & $\\dots$ \\\\\n",
       "\t6 & 80 & 48 & 93 & 92 & 50 & 5 & 86 & 47 & 2 & $\\dots$ \\\\\n",
       "\t7 & 18 & 97 & 78 & 5 & 46 & 17 & 99 & 5 & 67 & $\\dots$ \\\\\n",
       "\t8 & 9 & 66 & 82 & 83 & 55 & 76 & 81 & 15 & 35 & $\\dots$ \\\\\n",
       "\t9 & 19 & 95 & 41 & 29 & 20 & 19 & 13 & 10 & 62 & $\\dots$ \\\\\n",
       "\t10 & 55 & 47 & 64 & 18 & 65 & 49 & 100 & 75 & 30 & $\\dots$ \\\\\n",
       "\t11 & 88 & 43 & 97 & 37 & 56 & 42 & 33 & 10 & 67 & $\\dots$ \\\\\n",
       "\t12 & 17 & 86 & 96 & 87 & 13 & 6 & 86 & 82 & 43 & $\\dots$ \\\\\n",
       "\t13 & 83 & 10 & 96 & 73 & 78 & 17 & 60 & 91 & 29 & $\\dots$ \\\\\n",
       "\t14 & 95 & 10 & 36 & 85 & 22 & 14 & 90 & 33 & 15 & $\\dots$ \\\\\n",
       "\t15 & 29 & 44 & 98 & 85 & 54 & 81 & 4 & 23 & 34 & $\\dots$ \\\\\n",
       "\t16 & 6 & 20 & 32 & 71 & 31 & 25 & 57 & 21 & 58 & $\\dots$ \\\\\n",
       "\t17 & 69 & 33 & 48 & 85 & 43 & 25 & 62 & 96 & 90 & $\\dots$ \\\\\n",
       "\t18 & 62 & 45 & 2 & 75 & 90 & 88 & 17 & 45 & 74 & $\\dots$ \\\\\n",
       "\t19 & 91 & 91 & 88 & 18 & 77 & 1 & 30 & 60 & 1 & $\\dots$ \\\\\n",
       "\t20 & 31 & 74 & 52 & 32 & 95 & 99 & 26 & 76 & 21 & $\\dots$ \\\\\n",
       "\t21 & 81 & 11 & 75 & 18 & 20 & 33 & 58 & 63 & 43 & $\\dots$ \\\\\n",
       "\t22 & 85 & 61 & 91 & 30 & 27 & 62 & 57 & 42 & 100 & $\\dots$ \\\\\n",
       "\t23 & 70 & 84 & 72 & 16 & 64 & 18 & 52 & 76 & 41 & $\\dots$ \\\\\n",
       "\t24 & 83 & 45 & 25 & 94 & 15 & 33 & 57 & 75 & 51 & $\\dots$ \\\\\n",
       "\t25 & 5 & 50 & 34 & 33 & 19 & 88 & 76 & 74 & 69 & $\\dots$ \\\\\n",
       "\t26 & 97 & 24 & 97 & 60 & 5 & 54 & 47 & 95 & 21 & $\\dots$ \\\\\n",
       "\t27 & 88 & 63 & 65 & 88 & 8 & 14 & 72 & 70 & 53 & $\\dots$ \\\\\n",
       "\t28 & 44 & 3 & 100 & 78 & 21 & 99 & 78 & 61 & 55 & $\\dots$ \\\\\n",
       "\t29 & 90 & 99 & 18 & 32 & 46 & 83 & 69 & 96 & 91 & $\\dots$ \\\\\n",
       "\t30 & 5 & 42 & 83 & 93 & 72 & 67 & 6 & 58 & 39 & $\\dots$ \\\\\n",
       "\t$\\dots$ & $\\dots$ & $\\dots$ & $\\dots$ & $\\dots$ & $\\dots$ & $\\dots$ & $\\dots$ & $\\dots$ & $\\dots$ &  \\\\\n",
       "\\end{tabular}\n"
      ],
      "text/plain": [
       "\u001b[1m100×10 DataFrame\u001b[0m\n",
       "\u001b[1m Row \u001b[0m│\u001b[1m Column1 \u001b[0m\u001b[1m Column2 \u001b[0m\u001b[1m Column3 \u001b[0m\u001b[1m Column4 \u001b[0m\u001b[1m Column5 \u001b[0m\u001b[1m Column6 \u001b[0m\u001b[1m Column7 \u001b[0m\u001b[1m Column8 \u001b[0m\u001b[1m\u001b[0m ⋯\n",
       "\u001b[1m     \u001b[0m│\u001b[90m Int64   \u001b[0m\u001b[90m Int64   \u001b[0m\u001b[90m Int64   \u001b[0m\u001b[90m Int64   \u001b[0m\u001b[90m Int64   \u001b[0m\u001b[90m Int64   \u001b[0m\u001b[90m Int64   \u001b[0m\u001b[90m Int64   \u001b[0m\u001b[90m\u001b[0m ⋯\n",
       "─────┼──────────────────────────────────────────────────────────────────────────\n",
       "   1 │      93       68       16       84       66       96       39       94  ⋯\n",
       "   2 │      21       14       99       81       36       69        4       72\n",
       "   3 │      87       27       66       92       16       27        4       38\n",
       "   4 │      10       87       42       98       80        9        8        2\n",
       "   5 │      56       77       81       80       64       36       62       15  ⋯\n",
       "   6 │      80       48       93       92       50        5       86       47\n",
       "   7 │      18       97       78        5       46       17       99        5\n",
       "   8 │       9       66       82       83       55       76       81       15\n",
       "   9 │      19       95       41       29       20       19       13       10  ⋯\n",
       "  10 │      55       47       64       18       65       49      100       75\n",
       "  11 │      88       43       97       37       56       42       33       10\n",
       "  ⋮  │    ⋮        ⋮        ⋮        ⋮        ⋮        ⋮        ⋮        ⋮     ⋱\n",
       "  91 │      18       15       37       37       63       83       20       47\n",
       "  92 │      48       83       74        2       48       78       61       74  ⋯\n",
       "  93 │      64       78       26       16       71       90       68       16\n",
       "  94 │      47       18       66       94       33       31       81       88\n",
       "  95 │      39       95       36       89       50       41       29       49\n",
       "  96 │      73        1        5        6       41       24        9        1  ⋯\n",
       "  97 │      28       42       82      100       98       31       25       54\n",
       "  98 │       2       63       70       64       90      100       96       85\n",
       "  99 │      97       81       90       19       48        5       24       18\n",
       " 100 │      32       53       64       11       92       96       67       42  ⋯\n",
       "\u001b[36m                                                   2 columns and 79 rows omitted\u001b[0m"
      ]
     },
     "execution_count": 4,
     "metadata": {},
     "output_type": "execute_result"
    }
   ],
   "source": [
    "indices = CSV.read(\"rand_indices.csv\", DataFrame, header=false) .+ 1"
   ]
  },
  {
   "cell_type": "markdown",
   "metadata": {},
   "source": [
    "## Creating a Normal Sample Using Central Limit Theorem\n",
    "We use CLT to get a normal sample as the Student's theorem can only be used while sampling from a normal dataset."
   ]
  },
  {
   "cell_type": "code",
   "execution_count": 6,
   "metadata": {},
   "outputs": [
    {
     "data": {
      "image/svg+xml": [
       "<?xml version=\"1.0\" encoding=\"utf-8\"?>\n",
       "<svg xmlns=\"http://www.w3.org/2000/svg\" xmlns:xlink=\"http://www.w3.org/1999/xlink\" width=\"600\" height=\"400\" viewBox=\"0 0 2400 1600\">\n",
       "<defs>\n",
       "  <clipPath id=\"clip000\">\n",
       "    <rect x=\"0\" y=\"0\" width=\"2400\" height=\"1600\"/>\n",
       "  </clipPath>\n",
       "</defs>\n",
       "<path clip-path=\"url(#clip000)\" d=\"\n",
       "M0 1600 L2400 1600 L2400 0 L0 0  Z\n",
       "  \" fill=\"#ffffff\" fill-rule=\"evenodd\" fill-opacity=\"1\"/>\n",
       "<defs>\n",
       "  <clipPath id=\"clip001\">\n",
       "    <rect x=\"480\" y=\"0\" width=\"1681\" height=\"1600\"/>\n",
       "  </clipPath>\n",
       "</defs>\n",
       "<path clip-path=\"url(#clip000)\" d=\"\n",
       "M155.765 1486.45 L2352.76 1486.45 L2352.76 47.2441 L155.765 47.2441  Z\n",
       "  \" fill=\"#ffffff\" fill-rule=\"evenodd\" fill-opacity=\"1\"/>\n",
       "<defs>\n",
       "  <clipPath id=\"clip002\">\n",
       "    <rect x=\"155\" y=\"47\" width=\"2198\" height=\"1440\"/>\n",
       "  </clipPath>\n",
       "</defs>\n",
       "<polyline clip-path=\"url(#clip002)\" style=\"stroke:#000000; stroke-width:2; stroke-opacity:0.1; fill:none\" points=\"\n",
       "  226.845,1486.45 226.845,47.2441 \n",
       "  \"/>\n",
       "<polyline clip-path=\"url(#clip002)\" style=\"stroke:#000000; stroke-width:2; stroke-opacity:0.1; fill:none\" points=\"\n",
       "  793.258,1486.45 793.258,47.2441 \n",
       "  \"/>\n",
       "<polyline clip-path=\"url(#clip002)\" style=\"stroke:#000000; stroke-width:2; stroke-opacity:0.1; fill:none\" points=\"\n",
       "  1359.67,1486.45 1359.67,47.2441 \n",
       "  \"/>\n",
       "<polyline clip-path=\"url(#clip002)\" style=\"stroke:#000000; stroke-width:2; stroke-opacity:0.1; fill:none\" points=\"\n",
       "  1926.08,1486.45 1926.08,47.2441 \n",
       "  \"/>\n",
       "<polyline clip-path=\"url(#clip000)\" style=\"stroke:#000000; stroke-width:4; stroke-opacity:1; fill:none\" points=\"\n",
       "  155.765,1486.45 2352.76,1486.45 \n",
       "  \"/>\n",
       "<polyline clip-path=\"url(#clip000)\" style=\"stroke:#000000; stroke-width:4; stroke-opacity:1; fill:none\" points=\"\n",
       "  226.845,1486.45 226.845,1469.18 \n",
       "  \"/>\n",
       "<polyline clip-path=\"url(#clip000)\" style=\"stroke:#000000; stroke-width:4; stroke-opacity:1; fill:none\" points=\"\n",
       "  793.258,1486.45 793.258,1469.18 \n",
       "  \"/>\n",
       "<polyline clip-path=\"url(#clip000)\" style=\"stroke:#000000; stroke-width:4; stroke-opacity:1; fill:none\" points=\"\n",
       "  1359.67,1486.45 1359.67,1469.18 \n",
       "  \"/>\n",
       "<polyline clip-path=\"url(#clip000)\" style=\"stroke:#000000; stroke-width:4; stroke-opacity:1; fill:none\" points=\"\n",
       "  1926.08,1486.45 1926.08,1469.18 \n",
       "  \"/>\n",
       "<path clip-path=\"url(#clip000)\" d=\"M 0 0 M193.998 1543.18 L201.637 1543.18 L201.637 1516.82 L193.327 1518.49 L193.327 1514.23 L201.591 1512.56 L206.267 1512.56 L206.267 1543.18 L213.906 1543.18 L213.906 1547.12 L193.998 1547.12 L193.998 1543.18 Z\" fill=\"#000000\" fill-rule=\"evenodd\" fill-opacity=\"1\" /><path clip-path=\"url(#clip000)\" d=\"M 0 0 M223.35 1541.24 L228.234 1541.24 L228.234 1547.12 L223.35 1547.12 L223.35 1541.24 Z\" fill=\"#000000\" fill-rule=\"evenodd\" fill-opacity=\"1\" /><path clip-path=\"url(#clip000)\" d=\"M 0 0 M248.419 1515.64 Q244.808 1515.64 242.979 1519.2 Q241.174 1522.75 241.174 1529.87 Q241.174 1536.98 242.979 1540.55 Q244.808 1544.09 248.419 1544.09 Q252.053 1544.09 253.859 1540.55 Q255.688 1536.98 255.688 1529.87 Q255.688 1522.75 253.859 1519.2 Q252.053 1515.64 248.419 1515.64 M248.419 1511.93 Q254.229 1511.93 257.285 1516.54 Q260.364 1521.12 260.364 1529.87 Q260.364 1538.6 257.285 1543.21 Q254.229 1547.79 248.419 1547.79 Q242.609 1547.79 239.53 1543.21 Q236.475 1538.6 236.475 1529.87 Q236.475 1521.12 239.53 1516.54 Q242.609 1511.93 248.419 1511.93 Z\" fill=\"#000000\" fill-rule=\"evenodd\" fill-opacity=\"1\" /><path clip-path=\"url(#clip000)\" d=\"M 0 0 M760.909 1543.18 L768.547 1543.18 L768.547 1516.82 L760.237 1518.49 L760.237 1514.23 L768.501 1512.56 L773.177 1512.56 L773.177 1543.18 L780.816 1543.18 L780.816 1547.12 L760.909 1547.12 L760.909 1543.18 Z\" fill=\"#000000\" fill-rule=\"evenodd\" fill-opacity=\"1\" /><path clip-path=\"url(#clip000)\" d=\"M 0 0 M790.26 1541.24 L795.145 1541.24 L795.145 1547.12 L790.26 1547.12 L790.26 1541.24 Z\" fill=\"#000000\" fill-rule=\"evenodd\" fill-opacity=\"1\" /><path clip-path=\"url(#clip000)\" d=\"M 0 0 M805.376 1512.56 L823.732 1512.56 L823.732 1516.5 L809.658 1516.5 L809.658 1524.97 Q810.677 1524.62 811.695 1524.46 Q812.714 1524.27 813.732 1524.27 Q819.519 1524.27 822.899 1527.44 Q826.279 1530.62 826.279 1536.03 Q826.279 1541.61 822.806 1544.71 Q819.334 1547.79 813.015 1547.79 Q810.839 1547.79 808.57 1547.42 Q806.325 1547.05 803.918 1546.31 L803.918 1541.61 Q806.001 1542.74 808.223 1543.3 Q810.445 1543.86 812.922 1543.86 Q816.927 1543.86 819.265 1541.75 Q821.603 1539.64 821.603 1536.03 Q821.603 1532.42 819.265 1530.31 Q816.927 1528.21 812.922 1528.21 Q811.047 1528.21 809.172 1528.62 Q807.32 1529.04 805.376 1529.92 L805.376 1512.56 Z\" fill=\"#000000\" fill-rule=\"evenodd\" fill-opacity=\"1\" /><path clip-path=\"url(#clip000)\" d=\"M 0 0 M1330.91 1543.18 L1347.23 1543.18 L1347.23 1547.12 L1325.28 1547.12 L1325.28 1543.18 Q1327.95 1540.43 1332.53 1535.8 Q1337.14 1531.15 1338.32 1529.81 Q1340.56 1527.28 1341.44 1525.55 Q1342.34 1523.79 1342.34 1522.1 Q1342.34 1519.34 1340.4 1517.61 Q1338.48 1515.87 1335.38 1515.87 Q1333.18 1515.87 1330.72 1516.63 Q1328.29 1517.4 1325.52 1518.95 L1325.52 1514.23 Q1328.34 1513.09 1330.79 1512.51 Q1333.25 1511.93 1335.28 1511.93 Q1340.65 1511.93 1343.85 1514.62 Q1347.04 1517.31 1347.04 1521.8 Q1347.04 1523.93 1346.23 1525.85 Q1345.45 1527.74 1343.34 1530.34 Q1342.76 1531.01 1339.66 1534.23 Q1336.56 1537.42 1330.91 1543.18 Z\" fill=\"#000000\" fill-rule=\"evenodd\" fill-opacity=\"1\" /><path clip-path=\"url(#clip000)\" d=\"M 0 0 M1357.04 1541.24 L1361.93 1541.24 L1361.93 1547.12 L1357.04 1547.12 L1357.04 1541.24 Z\" fill=\"#000000\" fill-rule=\"evenodd\" fill-opacity=\"1\" /><path clip-path=\"url(#clip000)\" d=\"M 0 0 M1382.11 1515.64 Q1378.5 1515.64 1376.67 1519.2 Q1374.87 1522.75 1374.87 1529.87 Q1374.87 1536.98 1376.67 1540.55 Q1378.5 1544.09 1382.11 1544.09 Q1385.75 1544.09 1387.55 1540.55 Q1389.38 1536.98 1389.38 1529.87 Q1389.38 1522.75 1387.55 1519.2 Q1385.75 1515.64 1382.11 1515.64 M1382.11 1511.93 Q1387.92 1511.93 1390.98 1516.54 Q1394.06 1521.12 1394.06 1529.87 Q1394.06 1538.6 1390.98 1543.21 Q1387.92 1547.79 1382.11 1547.79 Q1376.3 1547.79 1373.22 1543.21 Q1370.17 1538.6 1370.17 1529.87 Q1370.17 1521.12 1373.22 1516.54 Q1376.3 1511.93 1382.11 1511.93 Z\" fill=\"#000000\" fill-rule=\"evenodd\" fill-opacity=\"1\" /><path clip-path=\"url(#clip000)\" d=\"M 0 0 M1897.82 1543.18 L1914.14 1543.18 L1914.14 1547.12 L1892.19 1547.12 L1892.19 1543.18 Q1894.86 1540.43 1899.44 1535.8 Q1904.05 1531.15 1905.23 1529.81 Q1907.47 1527.28 1908.35 1525.55 Q1909.25 1523.79 1909.25 1522.1 Q1909.25 1519.34 1907.31 1517.61 Q1905.39 1515.87 1902.29 1515.87 Q1900.09 1515.87 1897.63 1516.63 Q1895.2 1517.4 1892.43 1518.95 L1892.43 1514.23 Q1895.25 1513.09 1897.7 1512.51 Q1900.16 1511.93 1902.19 1511.93 Q1907.56 1511.93 1910.76 1514.62 Q1913.95 1517.31 1913.95 1521.8 Q1913.95 1523.93 1913.14 1525.85 Q1912.36 1527.74 1910.25 1530.34 Q1909.67 1531.01 1906.57 1534.23 Q1903.47 1537.42 1897.82 1543.18 Z\" fill=\"#000000\" fill-rule=\"evenodd\" fill-opacity=\"1\" /><path clip-path=\"url(#clip000)\" d=\"M 0 0 M1923.95 1541.24 L1928.84 1541.24 L1928.84 1547.12 L1923.95 1547.12 L1923.95 1541.24 Z\" fill=\"#000000\" fill-rule=\"evenodd\" fill-opacity=\"1\" /><path clip-path=\"url(#clip000)\" d=\"M 0 0 M1939.07 1512.56 L1957.43 1512.56 L1957.43 1516.5 L1943.35 1516.5 L1943.35 1524.97 Q1944.37 1524.62 1945.39 1524.46 Q1946.41 1524.27 1947.43 1524.27 Q1953.21 1524.27 1956.59 1527.44 Q1959.97 1530.62 1959.97 1536.03 Q1959.97 1541.61 1956.5 1544.71 Q1953.03 1547.79 1946.71 1547.79 Q1944.53 1547.79 1942.26 1547.42 Q1940.02 1547.05 1937.61 1546.31 L1937.61 1541.61 Q1939.69 1542.74 1941.92 1543.3 Q1944.14 1543.86 1946.62 1543.86 Q1950.62 1543.86 1952.96 1541.75 Q1955.3 1539.64 1955.3 1536.03 Q1955.3 1532.42 1952.96 1530.31 Q1950.62 1528.21 1946.62 1528.21 Q1944.74 1528.21 1942.87 1528.62 Q1941.01 1529.04 1939.07 1529.92 L1939.07 1512.56 Z\" fill=\"#000000\" fill-rule=\"evenodd\" fill-opacity=\"1\" /><polyline clip-path=\"url(#clip002)\" style=\"stroke:#000000; stroke-width:2; stroke-opacity:0.1; fill:none\" points=\"\n",
       "  155.765,1466.19 2352.76,1466.19 \n",
       "  \"/>\n",
       "<polyline clip-path=\"url(#clip002)\" style=\"stroke:#000000; stroke-width:2; stroke-opacity:0.1; fill:none\" points=\"\n",
       "  155.765,1065.25 2352.76,1065.25 \n",
       "  \"/>\n",
       "<polyline clip-path=\"url(#clip002)\" style=\"stroke:#000000; stroke-width:2; stroke-opacity:0.1; fill:none\" points=\"\n",
       "  155.765,664.302 2352.76,664.302 \n",
       "  \"/>\n",
       "<polyline clip-path=\"url(#clip002)\" style=\"stroke:#000000; stroke-width:2; stroke-opacity:0.1; fill:none\" points=\"\n",
       "  155.765,263.357 2352.76,263.357 \n",
       "  \"/>\n",
       "<polyline clip-path=\"url(#clip000)\" style=\"stroke:#000000; stroke-width:4; stroke-opacity:1; fill:none\" points=\"\n",
       "  155.765,1486.45 155.765,47.2441 \n",
       "  \"/>\n",
       "<polyline clip-path=\"url(#clip000)\" style=\"stroke:#000000; stroke-width:4; stroke-opacity:1; fill:none\" points=\"\n",
       "  155.765,1466.19 182.129,1466.19 \n",
       "  \"/>\n",
       "<polyline clip-path=\"url(#clip000)\" style=\"stroke:#000000; stroke-width:4; stroke-opacity:1; fill:none\" points=\"\n",
       "  155.765,1065.25 182.129,1065.25 \n",
       "  \"/>\n",
       "<polyline clip-path=\"url(#clip000)\" style=\"stroke:#000000; stroke-width:4; stroke-opacity:1; fill:none\" points=\"\n",
       "  155.765,664.302 182.129,664.302 \n",
       "  \"/>\n",
       "<polyline clip-path=\"url(#clip000)\" style=\"stroke:#000000; stroke-width:4; stroke-opacity:1; fill:none\" points=\"\n",
       "  155.765,263.357 182.129,263.357 \n",
       "  \"/>\n",
       "<path clip-path=\"url(#clip000)\" d=\"M 0 0 M53.3995 1479.54 L61.0384 1479.54 L61.0384 1453.17 L52.7282 1454.84 L52.7282 1450.58 L60.9921 1448.91 L65.668 1448.91 L65.668 1479.54 L73.3068 1479.54 L73.3068 1483.47 L53.3995 1483.47 L53.3995 1479.54 Z\" fill=\"#000000\" fill-rule=\"evenodd\" fill-opacity=\"1\" /><path clip-path=\"url(#clip000)\" d=\"M 0 0 M82.7512 1477.59 L87.6354 1477.59 L87.6354 1483.47 L82.7512 1483.47 L82.7512 1477.59 Z\" fill=\"#000000\" fill-rule=\"evenodd\" fill-opacity=\"1\" /><path clip-path=\"url(#clip000)\" d=\"M 0 0 M107.821 1451.99 Q104.209 1451.99 102.381 1455.56 Q100.575 1459.1 100.575 1466.23 Q100.575 1473.33 102.381 1476.9 Q104.209 1480.44 107.821 1480.44 Q111.455 1480.44 113.26 1476.9 Q115.089 1473.33 115.089 1466.23 Q115.089 1459.1 113.26 1455.56 Q111.455 1451.99 107.821 1451.99 M107.821 1448.29 Q113.631 1448.29 116.686 1452.89 Q119.765 1457.48 119.765 1466.23 Q119.765 1474.95 116.686 1479.56 Q113.631 1484.14 107.821 1484.14 Q102.01 1484.14 98.9317 1479.56 Q95.8761 1474.95 95.8761 1466.23 Q95.8761 1457.48 98.9317 1452.89 Q102.01 1448.29 107.821 1448.29 Z\" fill=\"#000000\" fill-rule=\"evenodd\" fill-opacity=\"1\" /><path clip-path=\"url(#clip000)\" d=\"M 0 0 M54.3949 1078.59 L62.0337 1078.59 L62.0337 1052.23 L53.7236 1053.89 L53.7236 1049.63 L61.9874 1047.97 L66.6633 1047.97 L66.6633 1078.59 L74.3022 1078.59 L74.3022 1082.53 L54.3949 1082.53 L54.3949 1078.59 Z\" fill=\"#000000\" fill-rule=\"evenodd\" fill-opacity=\"1\" /><path clip-path=\"url(#clip000)\" d=\"M 0 0 M83.7466 1076.65 L88.6308 1076.65 L88.6308 1082.53 L83.7466 1082.53 L83.7466 1076.65 Z\" fill=\"#000000\" fill-rule=\"evenodd\" fill-opacity=\"1\" /><path clip-path=\"url(#clip000)\" d=\"M 0 0 M98.8622 1047.97 L117.219 1047.97 L117.219 1051.9 L103.145 1051.9 L103.145 1060.37 Q104.163 1060.03 105.182 1059.87 Q106.2 1059.68 107.219 1059.68 Q113.006 1059.68 116.385 1062.85 Q119.765 1066.02 119.765 1071.44 Q119.765 1077.02 116.293 1080.12 Q112.82 1083.2 106.501 1083.2 Q104.325 1083.2 102.057 1082.83 Q99.8113 1082.46 97.4039 1081.72 L97.4039 1077.02 Q99.4872 1078.15 101.709 1078.71 Q103.932 1079.26 106.408 1079.26 Q110.413 1079.26 112.751 1077.16 Q115.089 1075.05 115.089 1071.44 Q115.089 1067.83 112.751 1065.72 Q110.413 1063.62 106.408 1063.62 Q104.534 1063.62 102.659 1064.03 Q100.807 1064.45 98.8622 1065.33 L98.8622 1047.97 Z\" fill=\"#000000\" fill-rule=\"evenodd\" fill-opacity=\"1\" /><path clip-path=\"url(#clip000)\" d=\"M 0 0 M56.6171 677.647 L72.9365 677.647 L72.9365 681.582 L50.9921 681.582 L50.9921 677.647 Q53.6541 674.892 58.2375 670.263 Q62.8439 665.61 64.0245 664.267 Q66.2698 661.744 67.1494 660.008 Q68.0522 658.249 68.0522 656.559 Q68.0522 653.804 66.1078 652.068 Q64.1865 650.332 61.0847 650.332 Q58.8856 650.332 56.4319 651.096 Q54.0014 651.86 51.2236 653.411 L51.2236 648.689 Q54.0477 647.554 56.5014 646.976 Q58.955 646.397 60.9921 646.397 Q66.3624 646.397 69.5568 649.082 Q72.7513 651.767 72.7513 656.258 Q72.7513 658.388 71.9411 660.309 Q71.1541 662.207 69.0476 664.8 Q68.4689 665.471 65.367 668.689 Q62.2652 671.883 56.6171 677.647 Z\" fill=\"#000000\" fill-rule=\"evenodd\" fill-opacity=\"1\" /><path clip-path=\"url(#clip000)\" d=\"M 0 0 M82.7512 675.702 L87.6354 675.702 L87.6354 681.582 L82.7512 681.582 L82.7512 675.702 Z\" fill=\"#000000\" fill-rule=\"evenodd\" fill-opacity=\"1\" /><path clip-path=\"url(#clip000)\" d=\"M 0 0 M107.821 650.101 Q104.209 650.101 102.381 653.666 Q100.575 657.207 100.575 664.337 Q100.575 671.443 102.381 675.008 Q104.209 678.55 107.821 678.55 Q111.455 678.55 113.26 675.008 Q115.089 671.443 115.089 664.337 Q115.089 657.207 113.26 653.666 Q111.455 650.101 107.821 650.101 M107.821 646.397 Q113.631 646.397 116.686 651.004 Q119.765 655.587 119.765 664.337 Q119.765 673.064 116.686 677.67 Q113.631 682.253 107.821 682.253 Q102.01 682.253 98.9317 677.67 Q95.8761 673.064 95.8761 664.337 Q95.8761 655.587 98.9317 651.004 Q102.01 646.397 107.821 646.397 Z\" fill=\"#000000\" fill-rule=\"evenodd\" fill-opacity=\"1\" /><path clip-path=\"url(#clip000)\" d=\"M 0 0 M57.6125 276.702 L73.9318 276.702 L73.9318 280.637 L51.9875 280.637 L51.9875 276.702 Q54.6495 273.947 59.2328 269.318 Q63.8393 264.665 65.0198 263.322 Q67.2652 260.799 68.1448 259.063 Q69.0476 257.304 69.0476 255.614 Q69.0476 252.859 67.1032 251.123 Q65.1819 249.387 62.08 249.387 Q59.881 249.387 57.4273 250.151 Q54.9967 250.915 52.219 252.466 L52.219 247.744 Q55.043 246.609 57.4967 246.031 Q59.9504 245.452 61.9874 245.452 Q67.3578 245.452 70.5522 248.137 Q73.7466 250.822 73.7466 255.313 Q73.7466 257.443 72.9365 259.364 Q72.1494 261.262 70.0429 263.855 Q69.4642 264.526 66.3624 267.743 Q63.2606 270.938 57.6125 276.702 Z\" fill=\"#000000\" fill-rule=\"evenodd\" fill-opacity=\"1\" /><path clip-path=\"url(#clip000)\" d=\"M 0 0 M83.7466 274.757 L88.6308 274.757 L88.6308 280.637 L83.7466 280.637 L83.7466 274.757 Z\" fill=\"#000000\" fill-rule=\"evenodd\" fill-opacity=\"1\" /><path clip-path=\"url(#clip000)\" d=\"M 0 0 M98.8622 246.077 L117.219 246.077 L117.219 250.012 L103.145 250.012 L103.145 258.484 Q104.163 258.137 105.182 257.975 Q106.2 257.79 107.219 257.79 Q113.006 257.79 116.385 260.961 Q119.765 264.132 119.765 269.549 Q119.765 275.128 116.293 278.23 Q112.82 281.308 106.501 281.308 Q104.325 281.308 102.057 280.938 Q99.8113 280.567 97.4039 279.827 L97.4039 275.128 Q99.4872 276.262 101.709 276.817 Q103.932 277.373 106.408 277.373 Q110.413 277.373 112.751 275.267 Q115.089 273.16 115.089 269.549 Q115.089 265.938 112.751 263.831 Q110.413 261.725 106.408 261.725 Q104.534 261.725 102.659 262.142 Q100.807 262.558 98.8622 263.438 L98.8622 246.077 Z\" fill=\"#000000\" fill-rule=\"evenodd\" fill-opacity=\"1\" /><polyline clip-path=\"url(#clip002)\" style=\"stroke:#6b9e32; stroke-width:4; stroke-opacity:1; fill:none\" points=\"\n",
       "  217.944,1358.01 2290.58,96.0968 \n",
       "  \"/>\n",
       "<circle clip-path=\"url(#clip002)\" cx=\"217.944\" cy=\"1445.72\" r=\"14\" fill=\"#009af9\" fill-rule=\"evenodd\" fill-opacity=\"1\" stroke=\"#000000\" stroke-opacity=\"1\" stroke-width=\"3.2\"/>\n",
       "<circle clip-path=\"url(#clip002)\" cx=\"339.746\" cy=\"1420.84\" r=\"14\" fill=\"#009af9\" fill-rule=\"evenodd\" fill-opacity=\"1\" stroke=\"#000000\" stroke-opacity=\"1\" stroke-width=\"3.2\"/>\n",
       "<circle clip-path=\"url(#clip002)\" cx=\"417.042\" cy=\"1410.92\" r=\"14\" fill=\"#009af9\" fill-rule=\"evenodd\" fill-opacity=\"1\" stroke=\"#000000\" stroke-opacity=\"1\" stroke-width=\"3.2\"/>\n",
       "<circle clip-path=\"url(#clip002)\" cx=\"475.2\" cy=\"1403.05\" r=\"14\" fill=\"#009af9\" fill-rule=\"evenodd\" fill-opacity=\"1\" stroke=\"#000000\" stroke-opacity=\"1\" stroke-width=\"3.2\"/>\n",
       "<circle clip-path=\"url(#clip002)\" cx=\"522.514\" cy=\"1263.63\" r=\"14\" fill=\"#009af9\" fill-rule=\"evenodd\" fill-opacity=\"1\" stroke=\"#000000\" stroke-opacity=\"1\" stroke-width=\"3.2\"/>\n",
       "<circle clip-path=\"url(#clip002)\" cx=\"562.792\" cy=\"1255.82\" r=\"14\" fill=\"#009af9\" fill-rule=\"evenodd\" fill-opacity=\"1\" stroke=\"#000000\" stroke-opacity=\"1\" stroke-width=\"3.2\"/>\n",
       "<circle clip-path=\"url(#clip002)\" cx=\"598.113\" cy=\"1253.23\" r=\"14\" fill=\"#009af9\" fill-rule=\"evenodd\" fill-opacity=\"1\" stroke=\"#000000\" stroke-opacity=\"1\" stroke-width=\"3.2\"/>\n",
       "<circle clip-path=\"url(#clip002)\" cx=\"629.743\" cy=\"1226.65\" r=\"14\" fill=\"#009af9\" fill-rule=\"evenodd\" fill-opacity=\"1\" stroke=\"#000000\" stroke-opacity=\"1\" stroke-width=\"3.2\"/>\n",
       "<circle clip-path=\"url(#clip002)\" cx=\"658.513\" cy=\"1222.19\" r=\"14\" fill=\"#009af9\" fill-rule=\"evenodd\" fill-opacity=\"1\" stroke=\"#000000\" stroke-opacity=\"1\" stroke-width=\"3.2\"/>\n",
       "<circle clip-path=\"url(#clip002)\" cx=\"685\" cy=\"1181.68\" r=\"14\" fill=\"#009af9\" fill-rule=\"evenodd\" fill-opacity=\"1\" stroke=\"#000000\" stroke-opacity=\"1\" stroke-width=\"3.2\"/>\n",
       "<circle clip-path=\"url(#clip002)\" cx=\"709.619\" cy=\"1172.94\" r=\"14\" fill=\"#009af9\" fill-rule=\"evenodd\" fill-opacity=\"1\" stroke=\"#000000\" stroke-opacity=\"1\" stroke-width=\"3.2\"/>\n",
       "<circle clip-path=\"url(#clip002)\" cx=\"732.684\" cy=\"1157.75\" r=\"14\" fill=\"#009af9\" fill-rule=\"evenodd\" fill-opacity=\"1\" stroke=\"#000000\" stroke-opacity=\"1\" stroke-width=\"3.2\"/>\n",
       "<circle clip-path=\"url(#clip002)\" cx=\"754.433\" cy=\"1138.16\" r=\"14\" fill=\"#009af9\" fill-rule=\"evenodd\" fill-opacity=\"1\" stroke=\"#000000\" stroke-opacity=\"1\" stroke-width=\"3.2\"/>\n",
       "<circle clip-path=\"url(#clip002)\" cx=\"775.055\" cy=\"1126.69\" r=\"14\" fill=\"#009af9\" fill-rule=\"evenodd\" fill-opacity=\"1\" stroke=\"#000000\" stroke-opacity=\"1\" stroke-width=\"3.2\"/>\n",
       "<circle clip-path=\"url(#clip002)\" cx=\"794.701\" cy=\"1125.05\" r=\"14\" fill=\"#009af9\" fill-rule=\"evenodd\" fill-opacity=\"1\" stroke=\"#000000\" stroke-opacity=\"1\" stroke-width=\"3.2\"/>\n",
       "<circle clip-path=\"url(#clip002)\" cx=\"813.494\" cy=\"1116.29\" r=\"14\" fill=\"#009af9\" fill-rule=\"evenodd\" fill-opacity=\"1\" stroke=\"#000000\" stroke-opacity=\"1\" stroke-width=\"3.2\"/>\n",
       "<circle clip-path=\"url(#clip002)\" cx=\"831.537\" cy=\"1032.06\" r=\"14\" fill=\"#009af9\" fill-rule=\"evenodd\" fill-opacity=\"1\" stroke=\"#000000\" stroke-opacity=\"1\" stroke-width=\"3.2\"/>\n",
       "<circle clip-path=\"url(#clip002)\" cx=\"848.913\" cy=\"1025.6\" r=\"14\" fill=\"#009af9\" fill-rule=\"evenodd\" fill-opacity=\"1\" stroke=\"#000000\" stroke-opacity=\"1\" stroke-width=\"3.2\"/>\n",
       "<circle clip-path=\"url(#clip002)\" cx=\"865.695\" cy=\"978.26\" r=\"14\" fill=\"#009af9\" fill-rule=\"evenodd\" fill-opacity=\"1\" stroke=\"#000000\" stroke-opacity=\"1\" stroke-width=\"3.2\"/>\n",
       "<circle clip-path=\"url(#clip002)\" cx=\"881.945\" cy=\"958.528\" r=\"14\" fill=\"#009af9\" fill-rule=\"evenodd\" fill-opacity=\"1\" stroke=\"#000000\" stroke-opacity=\"1\" stroke-width=\"3.2\"/>\n",
       "<circle clip-path=\"url(#clip002)\" cx=\"897.715\" cy=\"954.11\" r=\"14\" fill=\"#009af9\" fill-rule=\"evenodd\" fill-opacity=\"1\" stroke=\"#000000\" stroke-opacity=\"1\" stroke-width=\"3.2\"/>\n",
       "<circle clip-path=\"url(#clip002)\" cx=\"913.052\" cy=\"930.278\" r=\"14\" fill=\"#009af9\" fill-rule=\"evenodd\" fill-opacity=\"1\" stroke=\"#000000\" stroke-opacity=\"1\" stroke-width=\"3.2\"/>\n",
       "<circle clip-path=\"url(#clip002)\" cx=\"927.996\" cy=\"925.237\" r=\"14\" fill=\"#009af9\" fill-rule=\"evenodd\" fill-opacity=\"1\" stroke=\"#000000\" stroke-opacity=\"1\" stroke-width=\"3.2\"/>\n",
       "<circle clip-path=\"url(#clip002)\" cx=\"942.583\" cy=\"919.188\" r=\"14\" fill=\"#009af9\" fill-rule=\"evenodd\" fill-opacity=\"1\" stroke=\"#000000\" stroke-opacity=\"1\" stroke-width=\"3.2\"/>\n",
       "<circle clip-path=\"url(#clip002)\" cx=\"956.844\" cy=\"907.649\" r=\"14\" fill=\"#009af9\" fill-rule=\"evenodd\" fill-opacity=\"1\" stroke=\"#000000\" stroke-opacity=\"1\" stroke-width=\"3.2\"/>\n",
       "<circle clip-path=\"url(#clip002)\" cx=\"970.808\" cy=\"901.078\" r=\"14\" fill=\"#009af9\" fill-rule=\"evenodd\" fill-opacity=\"1\" stroke=\"#000000\" stroke-opacity=\"1\" stroke-width=\"3.2\"/>\n",
       "<circle clip-path=\"url(#clip002)\" cx=\"984.499\" cy=\"892.487\" r=\"14\" fill=\"#009af9\" fill-rule=\"evenodd\" fill-opacity=\"1\" stroke=\"#000000\" stroke-opacity=\"1\" stroke-width=\"3.2\"/>\n",
       "<circle clip-path=\"url(#clip002)\" cx=\"997.94\" cy=\"870.926\" r=\"14\" fill=\"#009af9\" fill-rule=\"evenodd\" fill-opacity=\"1\" stroke=\"#000000\" stroke-opacity=\"1\" stroke-width=\"3.2\"/>\n",
       "<circle clip-path=\"url(#clip002)\" cx=\"1011.15\" cy=\"869.873\" r=\"14\" fill=\"#009af9\" fill-rule=\"evenodd\" fill-opacity=\"1\" stroke=\"#000000\" stroke-opacity=\"1\" stroke-width=\"3.2\"/>\n",
       "<circle clip-path=\"url(#clip002)\" cx=\"1024.16\" cy=\"850.976\" r=\"14\" fill=\"#009af9\" fill-rule=\"evenodd\" fill-opacity=\"1\" stroke=\"#000000\" stroke-opacity=\"1\" stroke-width=\"3.2\"/>\n",
       "<circle clip-path=\"url(#clip002)\" cx=\"1036.97\" cy=\"848.624\" r=\"14\" fill=\"#009af9\" fill-rule=\"evenodd\" fill-opacity=\"1\" stroke=\"#000000\" stroke-opacity=\"1\" stroke-width=\"3.2\"/>\n",
       "<circle clip-path=\"url(#clip002)\" cx=\"1049.6\" cy=\"830.189\" r=\"14\" fill=\"#009af9\" fill-rule=\"evenodd\" fill-opacity=\"1\" stroke=\"#000000\" stroke-opacity=\"1\" stroke-width=\"3.2\"/>\n",
       "<circle clip-path=\"url(#clip002)\" cx=\"1062.07\" cy=\"827.874\" r=\"14\" fill=\"#009af9\" fill-rule=\"evenodd\" fill-opacity=\"1\" stroke=\"#000000\" stroke-opacity=\"1\" stroke-width=\"3.2\"/>\n",
       "<circle clip-path=\"url(#clip002)\" cx=\"1074.4\" cy=\"826.581\" r=\"14\" fill=\"#009af9\" fill-rule=\"evenodd\" fill-opacity=\"1\" stroke=\"#000000\" stroke-opacity=\"1\" stroke-width=\"3.2\"/>\n",
       "<circle clip-path=\"url(#clip002)\" cx=\"1086.58\" cy=\"822.294\" r=\"14\" fill=\"#009af9\" fill-rule=\"evenodd\" fill-opacity=\"1\" stroke=\"#000000\" stroke-opacity=\"1\" stroke-width=\"3.2\"/>\n",
       "<circle clip-path=\"url(#clip002)\" cx=\"1098.65\" cy=\"794.601\" r=\"14\" fill=\"#009af9\" fill-rule=\"evenodd\" fill-opacity=\"1\" stroke=\"#000000\" stroke-opacity=\"1\" stroke-width=\"3.2\"/>\n",
       "<circle clip-path=\"url(#clip002)\" cx=\"1110.6\" cy=\"794.027\" r=\"14\" fill=\"#009af9\" fill-rule=\"evenodd\" fill-opacity=\"1\" stroke=\"#000000\" stroke-opacity=\"1\" stroke-width=\"3.2\"/>\n",
       "<circle clip-path=\"url(#clip002)\" cx=\"1122.45\" cy=\"788.883\" r=\"14\" fill=\"#009af9\" fill-rule=\"evenodd\" fill-opacity=\"1\" stroke=\"#000000\" stroke-opacity=\"1\" stroke-width=\"3.2\"/>\n",
       "<circle clip-path=\"url(#clip002)\" cx=\"1134.2\" cy=\"786.947\" r=\"14\" fill=\"#009af9\" fill-rule=\"evenodd\" fill-opacity=\"1\" stroke=\"#000000\" stroke-opacity=\"1\" stroke-width=\"3.2\"/>\n",
       "<circle clip-path=\"url(#clip002)\" cx=\"1145.88\" cy=\"786.738\" r=\"14\" fill=\"#009af9\" fill-rule=\"evenodd\" fill-opacity=\"1\" stroke=\"#000000\" stroke-opacity=\"1\" stroke-width=\"3.2\"/>\n",
       "<circle clip-path=\"url(#clip002)\" cx=\"1157.48\" cy=\"777.033\" r=\"14\" fill=\"#009af9\" fill-rule=\"evenodd\" fill-opacity=\"1\" stroke=\"#000000\" stroke-opacity=\"1\" stroke-width=\"3.2\"/>\n",
       "<circle clip-path=\"url(#clip002)\" cx=\"1169.01\" cy=\"775.854\" r=\"14\" fill=\"#009af9\" fill-rule=\"evenodd\" fill-opacity=\"1\" stroke=\"#000000\" stroke-opacity=\"1\" stroke-width=\"3.2\"/>\n",
       "<circle clip-path=\"url(#clip002)\" cx=\"1180.49\" cy=\"775.113\" r=\"14\" fill=\"#009af9\" fill-rule=\"evenodd\" fill-opacity=\"1\" stroke=\"#000000\" stroke-opacity=\"1\" stroke-width=\"3.2\"/>\n",
       "<circle clip-path=\"url(#clip002)\" cx=\"1191.92\" cy=\"739.76\" r=\"14\" fill=\"#009af9\" fill-rule=\"evenodd\" fill-opacity=\"1\" stroke=\"#000000\" stroke-opacity=\"1\" stroke-width=\"3.2\"/>\n",
       "<circle clip-path=\"url(#clip002)\" cx=\"1203.31\" cy=\"735.355\" r=\"14\" fill=\"#009af9\" fill-rule=\"evenodd\" fill-opacity=\"1\" stroke=\"#000000\" stroke-opacity=\"1\" stroke-width=\"3.2\"/>\n",
       "<circle clip-path=\"url(#clip002)\" cx=\"1214.67\" cy=\"731.701\" r=\"14\" fill=\"#009af9\" fill-rule=\"evenodd\" fill-opacity=\"1\" stroke=\"#000000\" stroke-opacity=\"1\" stroke-width=\"3.2\"/>\n",
       "<circle clip-path=\"url(#clip002)\" cx=\"1226\" cy=\"725.334\" r=\"14\" fill=\"#009af9\" fill-rule=\"evenodd\" fill-opacity=\"1\" stroke=\"#000000\" stroke-opacity=\"1\" stroke-width=\"3.2\"/>\n",
       "<circle clip-path=\"url(#clip002)\" cx=\"1237.31\" cy=\"721.016\" r=\"14\" fill=\"#009af9\" fill-rule=\"evenodd\" fill-opacity=\"1\" stroke=\"#000000\" stroke-opacity=\"1\" stroke-width=\"3.2\"/>\n",
       "<circle clip-path=\"url(#clip002)\" cx=\"1248.61\" cy=\"710.603\" r=\"14\" fill=\"#009af9\" fill-rule=\"evenodd\" fill-opacity=\"1\" stroke=\"#000000\" stroke-opacity=\"1\" stroke-width=\"3.2\"/>\n",
       "<circle clip-path=\"url(#clip002)\" cx=\"1259.91\" cy=\"707.602\" r=\"14\" fill=\"#009af9\" fill-rule=\"evenodd\" fill-opacity=\"1\" stroke=\"#000000\" stroke-opacity=\"1\" stroke-width=\"3.2\"/>\n",
       "<circle clip-path=\"url(#clip002)\" cx=\"1271.21\" cy=\"707.364\" r=\"14\" fill=\"#009af9\" fill-rule=\"evenodd\" fill-opacity=\"1\" stroke=\"#000000\" stroke-opacity=\"1\" stroke-width=\"3.2\"/>\n",
       "<circle clip-path=\"url(#clip002)\" cx=\"1282.52\" cy=\"698.177\" r=\"14\" fill=\"#009af9\" fill-rule=\"evenodd\" fill-opacity=\"1\" stroke=\"#000000\" stroke-opacity=\"1\" stroke-width=\"3.2\"/>\n",
       "<circle clip-path=\"url(#clip002)\" cx=\"1293.85\" cy=\"689.866\" r=\"14\" fill=\"#009af9\" fill-rule=\"evenodd\" fill-opacity=\"1\" stroke=\"#000000\" stroke-opacity=\"1\" stroke-width=\"3.2\"/>\n",
       "<circle clip-path=\"url(#clip002)\" cx=\"1305.21\" cy=\"684.454\" r=\"14\" fill=\"#009af9\" fill-rule=\"evenodd\" fill-opacity=\"1\" stroke=\"#000000\" stroke-opacity=\"1\" stroke-width=\"3.2\"/>\n",
       "<circle clip-path=\"url(#clip002)\" cx=\"1316.6\" cy=\"683.505\" r=\"14\" fill=\"#009af9\" fill-rule=\"evenodd\" fill-opacity=\"1\" stroke=\"#000000\" stroke-opacity=\"1\" stroke-width=\"3.2\"/>\n",
       "<circle clip-path=\"url(#clip002)\" cx=\"1328.03\" cy=\"678.61\" r=\"14\" fill=\"#009af9\" fill-rule=\"evenodd\" fill-opacity=\"1\" stroke=\"#000000\" stroke-opacity=\"1\" stroke-width=\"3.2\"/>\n",
       "<circle clip-path=\"url(#clip002)\" cx=\"1339.51\" cy=\"672.634\" r=\"14\" fill=\"#009af9\" fill-rule=\"evenodd\" fill-opacity=\"1\" stroke=\"#000000\" stroke-opacity=\"1\" stroke-width=\"3.2\"/>\n",
       "<circle clip-path=\"url(#clip002)\" cx=\"1351.04\" cy=\"669.312\" r=\"14\" fill=\"#009af9\" fill-rule=\"evenodd\" fill-opacity=\"1\" stroke=\"#000000\" stroke-opacity=\"1\" stroke-width=\"3.2\"/>\n",
       "<circle clip-path=\"url(#clip002)\" cx=\"1362.64\" cy=\"658.913\" r=\"14\" fill=\"#009af9\" fill-rule=\"evenodd\" fill-opacity=\"1\" stroke=\"#000000\" stroke-opacity=\"1\" stroke-width=\"3.2\"/>\n",
       "<circle clip-path=\"url(#clip002)\" cx=\"1374.32\" cy=\"640.542\" r=\"14\" fill=\"#009af9\" fill-rule=\"evenodd\" fill-opacity=\"1\" stroke=\"#000000\" stroke-opacity=\"1\" stroke-width=\"3.2\"/>\n",
       "<circle clip-path=\"url(#clip002)\" cx=\"1386.07\" cy=\"639.051\" r=\"14\" fill=\"#009af9\" fill-rule=\"evenodd\" fill-opacity=\"1\" stroke=\"#000000\" stroke-opacity=\"1\" stroke-width=\"3.2\"/>\n",
       "<circle clip-path=\"url(#clip002)\" cx=\"1397.92\" cy=\"638.988\" r=\"14\" fill=\"#009af9\" fill-rule=\"evenodd\" fill-opacity=\"1\" stroke=\"#000000\" stroke-opacity=\"1\" stroke-width=\"3.2\"/>\n",
       "<circle clip-path=\"url(#clip002)\" cx=\"1409.87\" cy=\"622.682\" r=\"14\" fill=\"#009af9\" fill-rule=\"evenodd\" fill-opacity=\"1\" stroke=\"#000000\" stroke-opacity=\"1\" stroke-width=\"3.2\"/>\n",
       "<circle clip-path=\"url(#clip002)\" cx=\"1421.94\" cy=\"621.9\" r=\"14\" fill=\"#009af9\" fill-rule=\"evenodd\" fill-opacity=\"1\" stroke=\"#000000\" stroke-opacity=\"1\" stroke-width=\"3.2\"/>\n",
       "<circle clip-path=\"url(#clip002)\" cx=\"1434.12\" cy=\"619.452\" r=\"14\" fill=\"#009af9\" fill-rule=\"evenodd\" fill-opacity=\"1\" stroke=\"#000000\" stroke-opacity=\"1\" stroke-width=\"3.2\"/>\n",
       "<circle clip-path=\"url(#clip002)\" cx=\"1446.45\" cy=\"613.795\" r=\"14\" fill=\"#009af9\" fill-rule=\"evenodd\" fill-opacity=\"1\" stroke=\"#000000\" stroke-opacity=\"1\" stroke-width=\"3.2\"/>\n",
       "<circle clip-path=\"url(#clip002)\" cx=\"1458.92\" cy=\"598.796\" r=\"14\" fill=\"#009af9\" fill-rule=\"evenodd\" fill-opacity=\"1\" stroke=\"#000000\" stroke-opacity=\"1\" stroke-width=\"3.2\"/>\n",
       "<circle clip-path=\"url(#clip002)\" cx=\"1471.55\" cy=\"597.192\" r=\"14\" fill=\"#009af9\" fill-rule=\"evenodd\" fill-opacity=\"1\" stroke=\"#000000\" stroke-opacity=\"1\" stroke-width=\"3.2\"/>\n",
       "<circle clip-path=\"url(#clip002)\" cx=\"1484.36\" cy=\"596.823\" r=\"14\" fill=\"#009af9\" fill-rule=\"evenodd\" fill-opacity=\"1\" stroke=\"#000000\" stroke-opacity=\"1\" stroke-width=\"3.2\"/>\n",
       "<circle clip-path=\"url(#clip002)\" cx=\"1497.37\" cy=\"582.998\" r=\"14\" fill=\"#009af9\" fill-rule=\"evenodd\" fill-opacity=\"1\" stroke=\"#000000\" stroke-opacity=\"1\" stroke-width=\"3.2\"/>\n",
       "<circle clip-path=\"url(#clip002)\" cx=\"1510.58\" cy=\"575.828\" r=\"14\" fill=\"#009af9\" fill-rule=\"evenodd\" fill-opacity=\"1\" stroke=\"#000000\" stroke-opacity=\"1\" stroke-width=\"3.2\"/>\n",
       "<circle clip-path=\"url(#clip002)\" cx=\"1524.02\" cy=\"574.303\" r=\"14\" fill=\"#009af9\" fill-rule=\"evenodd\" fill-opacity=\"1\" stroke=\"#000000\" stroke-opacity=\"1\" stroke-width=\"3.2\"/>\n",
       "<circle clip-path=\"url(#clip002)\" cx=\"1537.71\" cy=\"557.843\" r=\"14\" fill=\"#009af9\" fill-rule=\"evenodd\" fill-opacity=\"1\" stroke=\"#000000\" stroke-opacity=\"1\" stroke-width=\"3.2\"/>\n",
       "<circle clip-path=\"url(#clip002)\" cx=\"1551.68\" cy=\"544.848\" r=\"14\" fill=\"#009af9\" fill-rule=\"evenodd\" fill-opacity=\"1\" stroke=\"#000000\" stroke-opacity=\"1\" stroke-width=\"3.2\"/>\n",
       "<circle clip-path=\"url(#clip002)\" cx=\"1565.94\" cy=\"526.006\" r=\"14\" fill=\"#009af9\" fill-rule=\"evenodd\" fill-opacity=\"1\" stroke=\"#000000\" stroke-opacity=\"1\" stroke-width=\"3.2\"/>\n",
       "<circle clip-path=\"url(#clip002)\" cx=\"1580.52\" cy=\"525.049\" r=\"14\" fill=\"#009af9\" fill-rule=\"evenodd\" fill-opacity=\"1\" stroke=\"#000000\" stroke-opacity=\"1\" stroke-width=\"3.2\"/>\n",
       "<circle clip-path=\"url(#clip002)\" cx=\"1595.47\" cy=\"520.937\" r=\"14\" fill=\"#009af9\" fill-rule=\"evenodd\" fill-opacity=\"1\" stroke=\"#000000\" stroke-opacity=\"1\" stroke-width=\"3.2\"/>\n",
       "<circle clip-path=\"url(#clip002)\" cx=\"1610.81\" cy=\"470.532\" r=\"14\" fill=\"#009af9\" fill-rule=\"evenodd\" fill-opacity=\"1\" stroke=\"#000000\" stroke-opacity=\"1\" stroke-width=\"3.2\"/>\n",
       "<circle clip-path=\"url(#clip002)\" cx=\"1626.58\" cy=\"464.475\" r=\"14\" fill=\"#009af9\" fill-rule=\"evenodd\" fill-opacity=\"1\" stroke=\"#000000\" stroke-opacity=\"1\" stroke-width=\"3.2\"/>\n",
       "<circle clip-path=\"url(#clip002)\" cx=\"1642.83\" cy=\"459.019\" r=\"14\" fill=\"#009af9\" fill-rule=\"evenodd\" fill-opacity=\"1\" stroke=\"#000000\" stroke-opacity=\"1\" stroke-width=\"3.2\"/>\n",
       "<circle clip-path=\"url(#clip002)\" cx=\"1659.61\" cy=\"442.501\" r=\"14\" fill=\"#009af9\" fill-rule=\"evenodd\" fill-opacity=\"1\" stroke=\"#000000\" stroke-opacity=\"1\" stroke-width=\"3.2\"/>\n",
       "<circle clip-path=\"url(#clip002)\" cx=\"1676.98\" cy=\"439.599\" r=\"14\" fill=\"#009af9\" fill-rule=\"evenodd\" fill-opacity=\"1\" stroke=\"#000000\" stroke-opacity=\"1\" stroke-width=\"3.2\"/>\n",
       "<circle clip-path=\"url(#clip002)\" cx=\"1695.03\" cy=\"420.21\" r=\"14\" fill=\"#009af9\" fill-rule=\"evenodd\" fill-opacity=\"1\" stroke=\"#000000\" stroke-opacity=\"1\" stroke-width=\"3.2\"/>\n",
       "<circle clip-path=\"url(#clip002)\" cx=\"1713.82\" cy=\"416.411\" r=\"14\" fill=\"#009af9\" fill-rule=\"evenodd\" fill-opacity=\"1\" stroke=\"#000000\" stroke-opacity=\"1\" stroke-width=\"3.2\"/>\n",
       "<circle clip-path=\"url(#clip002)\" cx=\"1733.47\" cy=\"404.471\" r=\"14\" fill=\"#009af9\" fill-rule=\"evenodd\" fill-opacity=\"1\" stroke=\"#000000\" stroke-opacity=\"1\" stroke-width=\"3.2\"/>\n",
       "<circle clip-path=\"url(#clip002)\" cx=\"1754.09\" cy=\"377.761\" r=\"14\" fill=\"#009af9\" fill-rule=\"evenodd\" fill-opacity=\"1\" stroke=\"#000000\" stroke-opacity=\"1\" stroke-width=\"3.2\"/>\n",
       "<circle clip-path=\"url(#clip002)\" cx=\"1775.84\" cy=\"362.144\" r=\"14\" fill=\"#009af9\" fill-rule=\"evenodd\" fill-opacity=\"1\" stroke=\"#000000\" stroke-opacity=\"1\" stroke-width=\"3.2\"/>\n",
       "<circle clip-path=\"url(#clip002)\" cx=\"1798.9\" cy=\"361.701\" r=\"14\" fill=\"#009af9\" fill-rule=\"evenodd\" fill-opacity=\"1\" stroke=\"#000000\" stroke-opacity=\"1\" stroke-width=\"3.2\"/>\n",
       "<circle clip-path=\"url(#clip002)\" cx=\"1823.52\" cy=\"345.363\" r=\"14\" fill=\"#009af9\" fill-rule=\"evenodd\" fill-opacity=\"1\" stroke=\"#000000\" stroke-opacity=\"1\" stroke-width=\"3.2\"/>\n",
       "<circle clip-path=\"url(#clip002)\" cx=\"1850.01\" cy=\"334.653\" r=\"14\" fill=\"#009af9\" fill-rule=\"evenodd\" fill-opacity=\"1\" stroke=\"#000000\" stroke-opacity=\"1\" stroke-width=\"3.2\"/>\n",
       "<circle clip-path=\"url(#clip002)\" cx=\"1878.78\" cy=\"315.613\" r=\"14\" fill=\"#009af9\" fill-rule=\"evenodd\" fill-opacity=\"1\" stroke=\"#000000\" stroke-opacity=\"1\" stroke-width=\"3.2\"/>\n",
       "<circle clip-path=\"url(#clip002)\" cx=\"1910.41\" cy=\"304.359\" r=\"14\" fill=\"#009af9\" fill-rule=\"evenodd\" fill-opacity=\"1\" stroke=\"#000000\" stroke-opacity=\"1\" stroke-width=\"3.2\"/>\n",
       "<circle clip-path=\"url(#clip002)\" cx=\"1945.73\" cy=\"297.299\" r=\"14\" fill=\"#009af9\" fill-rule=\"evenodd\" fill-opacity=\"1\" stroke=\"#000000\" stroke-opacity=\"1\" stroke-width=\"3.2\"/>\n",
       "<circle clip-path=\"url(#clip002)\" cx=\"1986.01\" cy=\"264.102\" r=\"14\" fill=\"#009af9\" fill-rule=\"evenodd\" fill-opacity=\"1\" stroke=\"#000000\" stroke-opacity=\"1\" stroke-width=\"3.2\"/>\n",
       "<circle clip-path=\"url(#clip002)\" cx=\"2033.32\" cy=\"238.166\" r=\"14\" fill=\"#009af9\" fill-rule=\"evenodd\" fill-opacity=\"1\" stroke=\"#000000\" stroke-opacity=\"1\" stroke-width=\"3.2\"/>\n",
       "<circle clip-path=\"url(#clip002)\" cx=\"2091.48\" cy=\"227.467\" r=\"14\" fill=\"#009af9\" fill-rule=\"evenodd\" fill-opacity=\"1\" stroke=\"#000000\" stroke-opacity=\"1\" stroke-width=\"3.2\"/>\n",
       "<circle clip-path=\"url(#clip002)\" cx=\"2168.78\" cy=\"181.441\" r=\"14\" fill=\"#009af9\" fill-rule=\"evenodd\" fill-opacity=\"1\" stroke=\"#000000\" stroke-opacity=\"1\" stroke-width=\"3.2\"/>\n",
       "<circle clip-path=\"url(#clip002)\" cx=\"2290.58\" cy=\"87.9763\" r=\"14\" fill=\"#009af9\" fill-rule=\"evenodd\" fill-opacity=\"1\" stroke=\"#000000\" stroke-opacity=\"1\" stroke-width=\"3.2\"/>\n",
       "</svg>\n"
      ]
     },
     "execution_count": 6,
     "metadata": {},
     "output_type": "execute_result"
    }
   ],
   "source": [
    "using StatsPlots\n",
    "\n",
    "sample = Float64[]\n",
    "for row in eachrow(indices)\n",
    "    idx = convert(Array, row)\n",
    "    push!(sample, sum(data[idx])/length(data[idx]))\n",
    "end\n",
    "StatsPlots.plot(qqnorm(sample, qqline = :R)) # NQQ Plot should give a straight line if the data is normally distributed"
   ]
  },
  {
   "cell_type": "markdown",
   "metadata": {},
   "source": [
    "## Anderson-Darling Test for Normality"
   ]
  },
  {
   "cell_type": "code",
   "execution_count": 7,
   "metadata": {},
   "outputs": [
    {
     "data": {
      "text/plain": [
       "One sample Anderson-Darling test\n",
       "--------------------------------\n",
       "Population details:\n",
       "    parameter of interest:   not implemented yet\n",
       "    value under h_0:         NaN\n",
       "    point estimate:          NaN\n",
       "\n",
       "Test summary:\n",
       "    outcome with 95% confidence: fail to reject h_0\n",
       "    one-sided p-value:           0.7109\n",
       "\n",
       "Details:\n",
       "    number of observations:   100\n",
       "    sample mean:              1.90694923518\n",
       "    sample SD:                0.3958605147157846\n",
       "    A² statistic:             0.5351155626707904\n"
      ]
     },
     "execution_count": 7,
     "metadata": {},
     "output_type": "execute_result"
    }
   ],
   "source": [
    "using HypothesisTests\n",
    "\n",
    "samp_mean = mean(sample)\n",
    "samp_var = var(sample, corrected=true)\n",
    "samp_std = std(sample, corrected=true)\n",
    "\n",
    "OneSampleADTest(sample, Normal(samp_mean, samp_std)) # Fails to reject H0: Distribution is normal"
   ]
  },
  {
   "cell_type": "markdown",
   "metadata": {},
   "source": [
    "## Finding Mean and Variance Ranges using Student's t Theorem"
   ]
  },
  {
   "cell_type": "code",
   "execution_count": 8,
   "metadata": {},
   "outputs": [
    {
     "name": "stdout",
     "output_type": "stream",
     "text": [
      "Population Mean: 1.9486206603\n",
      "Population Variance: 1.3866697777345502\n",
      "Mean Range: (1.8029802135628465, 2.0109182567971535)\n",
      "Variance Range: (1.1162103891316923, 2.3325551949755052)\n"
     ]
    }
   ],
   "source": [
    "pop_mean = mean(data)\n",
    "pop_var = var(data, corrected=false)\n",
    "\n",
    "println(\"Population Mean: $pop_mean\")\n",
    "println(\"Population Variance: $pop_var\")\n",
    "\n",
    "N_samp = length(sample)\n",
    "\n",
    "alpha = 0.01\n",
    "t = TDist(99)\n",
    "chi2 = Chisq(99)\n",
    "tinv = quantile(t, 1-alpha/2)\n",
    "\n",
    "mean_range = (samp_mean - abs(tinv)*samp_std/sqrt(N_samp), samp_mean + abs(tinv)*samp_std/sqrt(N_samp))\n",
    "var_range = ((N_samp-1)*samp_var*10/quantile(chi2, 1-alpha/2), (N_samp-1)*samp_var*10/quantile(chi2, alpha/2))\n",
    "\n",
    "println(\"Mean Range: $mean_range\")\n",
    "println(\"Variance Range: $var_range\")"
   ]
  },
  {
   "cell_type": "code",
   "execution_count": null,
   "metadata": {},
   "outputs": [],
   "source": []
  }
 ],
 "metadata": {
  "kernelspec": {
   "display_name": "Julia 1.6.0",
   "language": "julia",
   "name": "julia-1.6"
  },
  "language_info": {
   "file_extension": ".jl",
   "mimetype": "application/julia",
   "name": "julia",
   "version": "1.6.0"
  }
 },
 "nbformat": 4,
 "nbformat_minor": 4
}
