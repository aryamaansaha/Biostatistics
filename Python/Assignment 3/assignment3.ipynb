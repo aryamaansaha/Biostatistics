{
 "metadata": {
  "language_info": {
   "codemirror_mode": {
    "name": "ipython",
    "version": 3
   },
   "file_extension": ".py",
   "mimetype": "text/x-python",
   "name": "python",
   "nbconvert_exporter": "python",
   "pygments_lexer": "ipython3",
   "version": "3.7.6"
  },
  "orig_nbformat": 2,
  "kernelspec": {
   "name": "python3",
   "display_name": "Python 3.7.6 64-bit ('base': conda)",
   "metadata": {
    "interpreter": {
     "hash": "9393d49f89acab38bc7ffa46433bff5a7a600778fed02afb790aa0630f908e6c"
    }
   }
  }
 },
 "nbformat": 4,
 "nbformat_minor": 2,
 "cells": [
  {
   "source": [
    "## Entering original data"
   ],
   "cell_type": "markdown",
   "metadata": {}
  },
  {
   "cell_type": "code",
   "execution_count": 41,
   "metadata": {},
   "outputs": [
    {
     "output_type": "execute_result",
     "data": {
      "text/plain": [
       "          X1        X2        X3        X4             Y\n",
       "0   0.213911 -0.098156  0.359414 -0.019163     13.077645\n",
       "1   0.167625  0.362185  0.609916  0.963090     15.268998\n",
       "2   1.359511  0.541254  0.722986  1.164716     43.068049\n",
       "3   1.479617  1.168745  1.647872  1.915115    131.541140\n",
       "4   1.864991  2.164680  1.606221  1.749175    294.034360\n",
       "5   2.609254  2.624402  2.724956  2.796561    727.684370\n",
       "6   2.739215  2.894874  2.775946  2.972926    880.554470\n",
       "7   3.803973  3.460895  3.440592  3.150549   1620.382000\n",
       "8   3.958295  4.054293  4.707514  4.073429   2724.805600\n",
       "9   4.481045  4.159474  4.680320  4.489039   3148.405600\n",
       "10  4.926766  4.399330  5.164981  5.356092   4110.452800\n",
       "11  5.720380  4.869454  5.451674  5.864262   5544.627000\n",
       "12  6.141133  6.348912  6.372185  6.343617   9317.442000\n",
       "13  6.310534  6.590447  6.248725  6.209121   9798.233400\n",
       "14  6.573621  6.708668  7.289646  6.736988  11690.173000\n",
       "15  7.556762  7.433458  7.880043  7.455284  16010.826000\n",
       "16  7.860121  7.772742  8.074637  7.614148  17854.634000\n",
       "17  8.138214  8.324460  8.624171  8.350040  21557.167000\n",
       "18  8.717750  9.326726  8.756208  9.273537  27506.426000\n",
       "19  9.599943  9.556748  9.435393  9.302091  31854.759000"
      ],
      "text/html": "<div>\n<style scoped>\n    .dataframe tbody tr th:only-of-type {\n        vertical-align: middle;\n    }\n\n    .dataframe tbody tr th {\n        vertical-align: top;\n    }\n\n    .dataframe thead th {\n        text-align: right;\n    }\n</style>\n<table border=\"1\" class=\"dataframe\">\n  <thead>\n    <tr style=\"text-align: right;\">\n      <th></th>\n      <th>X1</th>\n      <th>X2</th>\n      <th>X3</th>\n      <th>X4</th>\n      <th>Y</th>\n    </tr>\n  </thead>\n  <tbody>\n    <tr>\n      <th>0</th>\n      <td>0.213911</td>\n      <td>-0.098156</td>\n      <td>0.359414</td>\n      <td>-0.019163</td>\n      <td>13.077645</td>\n    </tr>\n    <tr>\n      <th>1</th>\n      <td>0.167625</td>\n      <td>0.362185</td>\n      <td>0.609916</td>\n      <td>0.963090</td>\n      <td>15.268998</td>\n    </tr>\n    <tr>\n      <th>2</th>\n      <td>1.359511</td>\n      <td>0.541254</td>\n      <td>0.722986</td>\n      <td>1.164716</td>\n      <td>43.068049</td>\n    </tr>\n    <tr>\n      <th>3</th>\n      <td>1.479617</td>\n      <td>1.168745</td>\n      <td>1.647872</td>\n      <td>1.915115</td>\n      <td>131.541140</td>\n    </tr>\n    <tr>\n      <th>4</th>\n      <td>1.864991</td>\n      <td>2.164680</td>\n      <td>1.606221</td>\n      <td>1.749175</td>\n      <td>294.034360</td>\n    </tr>\n    <tr>\n      <th>5</th>\n      <td>2.609254</td>\n      <td>2.624402</td>\n      <td>2.724956</td>\n      <td>2.796561</td>\n      <td>727.684370</td>\n    </tr>\n    <tr>\n      <th>6</th>\n      <td>2.739215</td>\n      <td>2.894874</td>\n      <td>2.775946</td>\n      <td>2.972926</td>\n      <td>880.554470</td>\n    </tr>\n    <tr>\n      <th>7</th>\n      <td>3.803973</td>\n      <td>3.460895</td>\n      <td>3.440592</td>\n      <td>3.150549</td>\n      <td>1620.382000</td>\n    </tr>\n    <tr>\n      <th>8</th>\n      <td>3.958295</td>\n      <td>4.054293</td>\n      <td>4.707514</td>\n      <td>4.073429</td>\n      <td>2724.805600</td>\n    </tr>\n    <tr>\n      <th>9</th>\n      <td>4.481045</td>\n      <td>4.159474</td>\n      <td>4.680320</td>\n      <td>4.489039</td>\n      <td>3148.405600</td>\n    </tr>\n    <tr>\n      <th>10</th>\n      <td>4.926766</td>\n      <td>4.399330</td>\n      <td>5.164981</td>\n      <td>5.356092</td>\n      <td>4110.452800</td>\n    </tr>\n    <tr>\n      <th>11</th>\n      <td>5.720380</td>\n      <td>4.869454</td>\n      <td>5.451674</td>\n      <td>5.864262</td>\n      <td>5544.627000</td>\n    </tr>\n    <tr>\n      <th>12</th>\n      <td>6.141133</td>\n      <td>6.348912</td>\n      <td>6.372185</td>\n      <td>6.343617</td>\n      <td>9317.442000</td>\n    </tr>\n    <tr>\n      <th>13</th>\n      <td>6.310534</td>\n      <td>6.590447</td>\n      <td>6.248725</td>\n      <td>6.209121</td>\n      <td>9798.233400</td>\n    </tr>\n    <tr>\n      <th>14</th>\n      <td>6.573621</td>\n      <td>6.708668</td>\n      <td>7.289646</td>\n      <td>6.736988</td>\n      <td>11690.173000</td>\n    </tr>\n    <tr>\n      <th>15</th>\n      <td>7.556762</td>\n      <td>7.433458</td>\n      <td>7.880043</td>\n      <td>7.455284</td>\n      <td>16010.826000</td>\n    </tr>\n    <tr>\n      <th>16</th>\n      <td>7.860121</td>\n      <td>7.772742</td>\n      <td>8.074637</td>\n      <td>7.614148</td>\n      <td>17854.634000</td>\n    </tr>\n    <tr>\n      <th>17</th>\n      <td>8.138214</td>\n      <td>8.324460</td>\n      <td>8.624171</td>\n      <td>8.350040</td>\n      <td>21557.167000</td>\n    </tr>\n    <tr>\n      <th>18</th>\n      <td>8.717750</td>\n      <td>9.326726</td>\n      <td>8.756208</td>\n      <td>9.273537</td>\n      <td>27506.426000</td>\n    </tr>\n    <tr>\n      <th>19</th>\n      <td>9.599943</td>\n      <td>9.556748</td>\n      <td>9.435393</td>\n      <td>9.302091</td>\n      <td>31854.759000</td>\n    </tr>\n  </tbody>\n</table>\n</div>"
     },
     "metadata": {},
     "execution_count": 41
    }
   ],
   "source": [
    "import pandas as pd\n",
    "df = pd.read_csv('data.csv')\n",
    "df"
   ]
  },
  {
   "source": [
    "## Change of Variables"
   ],
   "cell_type": "markdown",
   "metadata": {}
  },
  {
   "cell_type": "code",
   "execution_count": 43,
   "metadata": {},
   "outputs": [
    {
     "output_type": "execute_result",
     "data": {
      "text/plain": [
       "          Z1          Z2          Z3          Z4             Y\n",
       "0   0.213911    0.002061    0.003463   -0.001473     13.077645\n",
       "1   0.167625    0.021989    0.080008    0.098464     15.268998\n",
       "2   1.359511    0.398276    0.211803    1.144808     43.068049\n",
       "3   1.479617    2.021105    2.250936    4.669472    131.541140\n",
       "4   1.864991    8.739051    7.526495    5.239807    294.034360\n",
       "5   2.609254   17.971206   18.768102   19.883838    727.684370\n",
       "6   2.739215   22.955426   23.263238   22.605870    880.554470\n",
       "7   3.803973   45.563195   41.210696   41.234131   1620.382000\n",
       "8   3.958295   65.063637   77.378765   75.903171   2724.805600\n",
       "9   4.481045   77.527574   80.975274   94.147382   3148.405600\n",
       "10  4.926766   95.353137   99.963563  136.294593   4110.452800\n",
       "11  5.720380  135.639265  129.267799  182.880803   5544.627000\n",
       "12  6.141133  247.540960  256.854381  248.241191   9317.442000\n",
       "13  6.310534  274.091677  271.407079  244.843006   9798.233400\n",
       "14  6.573621  295.853862  328.079423  322.832259  11690.173000\n",
       "15  7.556762  417.558748  435.422060  443.944386  16010.826000\n",
       "16  7.860121  474.873247  487.833360  483.251869  17854.634000\n",
       "17  8.138214  563.950791  597.626016  586.050486  21557.167000\n",
       "18  8.717750  758.337966  761.683413  707.890167  27506.426000\n",
       "19  9.599943  876.776554  861.748030  842.576251  31854.759000"
      ],
      "text/html": "<div>\n<style scoped>\n    .dataframe tbody tr th:only-of-type {\n        vertical-align: middle;\n    }\n\n    .dataframe tbody tr th {\n        vertical-align: top;\n    }\n\n    .dataframe thead th {\n        text-align: right;\n    }\n</style>\n<table border=\"1\" class=\"dataframe\">\n  <thead>\n    <tr style=\"text-align: right;\">\n      <th></th>\n      <th>Z1</th>\n      <th>Z2</th>\n      <th>Z3</th>\n      <th>Z4</th>\n      <th>Y</th>\n    </tr>\n  </thead>\n  <tbody>\n    <tr>\n      <th>0</th>\n      <td>0.213911</td>\n      <td>0.002061</td>\n      <td>0.003463</td>\n      <td>-0.001473</td>\n      <td>13.077645</td>\n    </tr>\n    <tr>\n      <th>1</th>\n      <td>0.167625</td>\n      <td>0.021989</td>\n      <td>0.080008</td>\n      <td>0.098464</td>\n      <td>15.268998</td>\n    </tr>\n    <tr>\n      <th>2</th>\n      <td>1.359511</td>\n      <td>0.398276</td>\n      <td>0.211803</td>\n      <td>1.144808</td>\n      <td>43.068049</td>\n    </tr>\n    <tr>\n      <th>3</th>\n      <td>1.479617</td>\n      <td>2.021105</td>\n      <td>2.250936</td>\n      <td>4.669472</td>\n      <td>131.541140</td>\n    </tr>\n    <tr>\n      <th>4</th>\n      <td>1.864991</td>\n      <td>8.739051</td>\n      <td>7.526495</td>\n      <td>5.239807</td>\n      <td>294.034360</td>\n    </tr>\n    <tr>\n      <th>5</th>\n      <td>2.609254</td>\n      <td>17.971206</td>\n      <td>18.768102</td>\n      <td>19.883838</td>\n      <td>727.684370</td>\n    </tr>\n    <tr>\n      <th>6</th>\n      <td>2.739215</td>\n      <td>22.955426</td>\n      <td>23.263238</td>\n      <td>22.605870</td>\n      <td>880.554470</td>\n    </tr>\n    <tr>\n      <th>7</th>\n      <td>3.803973</td>\n      <td>45.563195</td>\n      <td>41.210696</td>\n      <td>41.234131</td>\n      <td>1620.382000</td>\n    </tr>\n    <tr>\n      <th>8</th>\n      <td>3.958295</td>\n      <td>65.063637</td>\n      <td>77.378765</td>\n      <td>75.903171</td>\n      <td>2724.805600</td>\n    </tr>\n    <tr>\n      <th>9</th>\n      <td>4.481045</td>\n      <td>77.527574</td>\n      <td>80.975274</td>\n      <td>94.147382</td>\n      <td>3148.405600</td>\n    </tr>\n    <tr>\n      <th>10</th>\n      <td>4.926766</td>\n      <td>95.353137</td>\n      <td>99.963563</td>\n      <td>136.294593</td>\n      <td>4110.452800</td>\n    </tr>\n    <tr>\n      <th>11</th>\n      <td>5.720380</td>\n      <td>135.639265</td>\n      <td>129.267799</td>\n      <td>182.880803</td>\n      <td>5544.627000</td>\n    </tr>\n    <tr>\n      <th>12</th>\n      <td>6.141133</td>\n      <td>247.540960</td>\n      <td>256.854381</td>\n      <td>248.241191</td>\n      <td>9317.442000</td>\n    </tr>\n    <tr>\n      <th>13</th>\n      <td>6.310534</td>\n      <td>274.091677</td>\n      <td>271.407079</td>\n      <td>244.843006</td>\n      <td>9798.233400</td>\n    </tr>\n    <tr>\n      <th>14</th>\n      <td>6.573621</td>\n      <td>295.853862</td>\n      <td>328.079423</td>\n      <td>322.832259</td>\n      <td>11690.173000</td>\n    </tr>\n    <tr>\n      <th>15</th>\n      <td>7.556762</td>\n      <td>417.558748</td>\n      <td>435.422060</td>\n      <td>443.944386</td>\n      <td>16010.826000</td>\n    </tr>\n    <tr>\n      <th>16</th>\n      <td>7.860121</td>\n      <td>474.873247</td>\n      <td>487.833360</td>\n      <td>483.251869</td>\n      <td>17854.634000</td>\n    </tr>\n    <tr>\n      <th>17</th>\n      <td>8.138214</td>\n      <td>563.950791</td>\n      <td>597.626016</td>\n      <td>586.050486</td>\n      <td>21557.167000</td>\n    </tr>\n    <tr>\n      <th>18</th>\n      <td>8.717750</td>\n      <td>758.337966</td>\n      <td>761.683413</td>\n      <td>707.890167</td>\n      <td>27506.426000</td>\n    </tr>\n    <tr>\n      <th>19</th>\n      <td>9.599943</td>\n      <td>876.776554</td>\n      <td>861.748030</td>\n      <td>842.576251</td>\n      <td>31854.759000</td>\n    </tr>\n  </tbody>\n</table>\n</div>"
     },
     "metadata": {},
     "execution_count": 43
    }
   ],
   "source": [
    "Z1 = (df['X1']).rename('Z1')\n",
    "Z2 = ((df['X2']**2)*df['X1']).rename('Z2')\n",
    "Z3 = ((df['X2']**2)*df['X3']).rename('Z3')\n",
    "Z4 = (df['X1']*df['X3']*df['X4']).rename('Z4')\n",
    "augdf = pd.concat([Z1, Z2, Z3, Z4, df['Y']], axis=1)\n",
    "augdf.to_csv('augdata.csv', header=True, index=False)\n",
    "augdf"
   ]
  },
  {
   "source": [
    "## Multiple Regression Class"
   ],
   "cell_type": "markdown",
   "metadata": {}
  },
  {
   "cell_type": "code",
   "execution_count": 44,
   "metadata": {},
   "outputs": [],
   "source": [
    "import numpy as np\n",
    "from scipy.stats import f, t\n",
    "class MultipleRegression():\n",
    "    def __init__(self, augdf, alpha):\n",
    "        self.X = augdf.to_numpy()[:, 0:4]\n",
    "        self.X = np.insert(self.X, 0, np.ones((20,)), axis=1)\n",
    "        self.y = df.to_numpy()[:, 4]\n",
    "        self.y = self.y.reshape(-1, 1)\n",
    "        self.alpha = alpha\n",
    "        self.n = 20\n",
    "        self.p = 5\n",
    "        self.regDOF = self.p - 1\n",
    "        self.errDOF = self.n - self.p\n",
    "        self.totDOF = self.n - 1\n",
    "        self.Bhat = np.dot(np.linalg.inv(np.dot(self.X.T, self.X)), np.dot(self.X.T, self.y))\n",
    "        self.yhat = np.dot(self.X, self.Bhat)\n",
    "        self.SSE = np.sum((self.y - self.yhat)**2)\n",
    "        self.SST = np.sum((self.y - np.mean(self.y))**2)\n",
    "        self.SSR = self.SST - self.SSE\n",
    "        self.mSSR = self.SSR/self.regDOF\n",
    "        self.mSSE = self.SSE/self.errDOF\n",
    "        self.RMSE = np.sqrt(self.mSSE)\n",
    "        self.Fstat = self.mSSR/self.mSSE\n",
    "        self.p_Ftest = 2*(1-f.cdf(self.Fstat, self.regDOF, self.errDOF))\n",
    "        self.Rsq = self.SSR/self.SST\n",
    "        self.Rsq_adj = 1 - (self.n - 1)*(1 - self.Rsq)/(self.n - self.p)\n",
    "        self.H0_Ftest = None\n",
    "        self.CovBhat = [[]]\n",
    "        self.SE = []\n",
    "        self.Tstats = []\n",
    "        self.pvalues = []\n",
    "        self.sigs = []\n",
    "        self.errors_at_alpha = []\n",
    "\n",
    "    def ftest(self):\n",
    "        if f.ppf(self.alpha/2, self.regDOF, self.errDOF) <= self.Fstat <= f.ppf(1-self.alpha/2, self.regDOF, self.errDOF):\n",
    "            self.H0_Ftest = 1\n",
    "            # print('Null Hypothesis is true')\n",
    "            \n",
    "        else:\n",
    "            self.H0_Ftest = 0\n",
    "            # print('Null Hypothesis Rejected')\n",
    "        return self.H0_Ftest\n",
    "    \n",
    "    def estimate(self):\n",
    "        if self.ftest() == 0:\n",
    "            self.CovBhat = np.linalg.inv(np.dot(self.X.T, self.X))*self.mSSE\n",
    "            for i in range(0,5):\n",
    "                self.SE.append(np.sqrt(model.CovBhat[i][i]))\n",
    "                self.Tstats.append(self.Bhat[i][0]/self.SE[i])\n",
    "                self.pvalues.append(2*(1 - t.cdf(self.Tstats[i], self.errDOF)))\n",
    "                self.errors_at_alpha.append(self.SE[i]*abs(t.ppf(self.alpha/2, self.errDOF)))\n",
    "\n",
    "    def summary(self):\n",
    "        self.estimate()\n",
    "        self.sigs = ['Significant' if self.pvalues[i] < self.alpha else 'Not Significant' for i in range(0,len(self.pvalues))]\n",
    "        results = pd.concat([pd.Series(np.reshape(model.Bhat, (self.p,)), name = 'Coefficients'), pd.Series(self.SE, name = 'SEs'), pd.Series(self.sigs, name = 'Significance'), pd.Series(self.errors_at_alpha, name = f'Errors at {round(self.alpha*100, 2)}% ')], axis=1)\n",
    "        results.index = ['Intercept', 'Z1', 'Z2', 'Z3', 'Z4']\n",
    "        return results\n",
    "\n",
    "    def anova(self):\n",
    "        C1 = pd.Series(np.array([self.regDOF, self.errDOF, self.totDOF]), name = 'DOF')\n",
    "        C2 = pd.Series(np.array([self.SSR, self.SSE, self.SST]), name = 'Sum Sqs')\n",
    "        C3 = pd.Series(np.array([self.mSSR, self.mSSE, '-']), name = 'Mean Sum Sqs')\n",
    "        C4 = pd.Series(np.array([self.Fstat, '-', '-']), name = 'F-value')\n",
    "        C5 = pd.Series([self.p_Ftest, '-', '-'], name = 'p-value')\n",
    "        anova_table = pd.concat([C1, C2, C3, C4, C5], axis=1)\n",
    "        anova_table.index = ['Residual', 'Error', 'Total']\n",
    "        return anova_table\n",
    "\n",
    "        \n",
    "    "
   ]
  },
  {
   "source": [
    "## Obtaining the Results"
   ],
   "cell_type": "markdown",
   "metadata": {}
  },
  {
   "cell_type": "code",
   "execution_count": 45,
   "metadata": {},
   "outputs": [
    {
     "output_type": "execute_result",
     "data": {
      "text/plain": [
       "           Coefficients       SEs Significance  Errors at 1.45% \n",
       "Intercept     11.098233  0.597544  Significant          1.651052\n",
       "Z1             8.432722  0.227710  Significant          0.629176\n",
       "Z2            12.938975  0.021209  Significant          0.058603\n",
       "Z3            12.125195  0.024339  Significant          0.067250\n",
       "Z4            11.831251  0.015307  Significant          0.042294"
      ],
      "text/html": "<div>\n<style scoped>\n    .dataframe tbody tr th:only-of-type {\n        vertical-align: middle;\n    }\n\n    .dataframe tbody tr th {\n        vertical-align: top;\n    }\n\n    .dataframe thead th {\n        text-align: right;\n    }\n</style>\n<table border=\"1\" class=\"dataframe\">\n  <thead>\n    <tr style=\"text-align: right;\">\n      <th></th>\n      <th>Coefficients</th>\n      <th>SEs</th>\n      <th>Significance</th>\n      <th>Errors at 1.45%</th>\n    </tr>\n  </thead>\n  <tbody>\n    <tr>\n      <th>Intercept</th>\n      <td>11.098233</td>\n      <td>0.597544</td>\n      <td>Significant</td>\n      <td>1.651052</td>\n    </tr>\n    <tr>\n      <th>Z1</th>\n      <td>8.432722</td>\n      <td>0.227710</td>\n      <td>Significant</td>\n      <td>0.629176</td>\n    </tr>\n    <tr>\n      <th>Z2</th>\n      <td>12.938975</td>\n      <td>0.021209</td>\n      <td>Significant</td>\n      <td>0.058603</td>\n    </tr>\n    <tr>\n      <th>Z3</th>\n      <td>12.125195</td>\n      <td>0.024339</td>\n      <td>Significant</td>\n      <td>0.067250</td>\n    </tr>\n    <tr>\n      <th>Z4</th>\n      <td>11.831251</td>\n      <td>0.015307</td>\n      <td>Significant</td>\n      <td>0.042294</td>\n    </tr>\n  </tbody>\n</table>\n</div>"
     },
     "metadata": {},
     "execution_count": 45
    }
   ],
   "source": [
    "model = MultipleRegression(augdf, alpha=0.0145)\n",
    "summary = model.summary()\n",
    "summary"
   ]
  },
  {
   "source": [
    "## ANOVA Table"
   ],
   "cell_type": "markdown",
   "metadata": {}
  },
  {
   "cell_type": "code",
   "execution_count": 46,
   "metadata": {},
   "outputs": [
    {
     "output_type": "stream",
     "name": "stdout",
     "text": [
      "\n Rsq = 0.999999991220029    Rsq adjusted = 0.9999999888787034\n"
     ]
    },
    {
     "output_type": "execute_result",
     "data": {
      "text/plain": [
       "          DOF       Sum Sqs        Mean Sum Sqs            F-value  \\\n",
       "Residual    4  1.840998e+09  460249403.70589644  427108468.3563706   \n",
       "Error      15  1.616391e+01   1.077593721044823                  -   \n",
       "Total      19  1.840998e+09                   -                  -   \n",
       "\n",
       "              p-value  \n",
       "Residual  2.22045e-16  \n",
       "Error               -  \n",
       "Total               -  "
      ],
      "text/html": "<div>\n<style scoped>\n    .dataframe tbody tr th:only-of-type {\n        vertical-align: middle;\n    }\n\n    .dataframe tbody tr th {\n        vertical-align: top;\n    }\n\n    .dataframe thead th {\n        text-align: right;\n    }\n</style>\n<table border=\"1\" class=\"dataframe\">\n  <thead>\n    <tr style=\"text-align: right;\">\n      <th></th>\n      <th>DOF</th>\n      <th>Sum Sqs</th>\n      <th>Mean Sum Sqs</th>\n      <th>F-value</th>\n      <th>p-value</th>\n    </tr>\n  </thead>\n  <tbody>\n    <tr>\n      <th>Residual</th>\n      <td>4</td>\n      <td>1.840998e+09</td>\n      <td>460249403.70589644</td>\n      <td>427108468.3563706</td>\n      <td>2.22045e-16</td>\n    </tr>\n    <tr>\n      <th>Error</th>\n      <td>15</td>\n      <td>1.616391e+01</td>\n      <td>1.077593721044823</td>\n      <td>-</td>\n      <td>-</td>\n    </tr>\n    <tr>\n      <th>Total</th>\n      <td>19</td>\n      <td>1.840998e+09</td>\n      <td>-</td>\n      <td>-</td>\n      <td>-</td>\n    </tr>\n  </tbody>\n</table>\n</div>"
     },
     "metadata": {},
     "execution_count": 46
    }
   ],
   "source": [
    "tbl = model.anova()\n",
    "print(f\"\\n Rsq = {model.Rsq}    Rsq adjusted = {model.Rsq_adj}\")\n",
    "tbl"
   ]
  },
  {
   "cell_type": "code",
   "execution_count": null,
   "metadata": {},
   "outputs": [],
   "source": []
  }
 ]
}