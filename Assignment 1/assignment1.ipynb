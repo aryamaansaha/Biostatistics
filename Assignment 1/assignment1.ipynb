{
 "metadata": {
  "language_info": {
   "codemirror_mode": {
    "name": "ipython",
    "version": 3
   },
   "file_extension": ".py",
   "mimetype": "text/x-python",
   "name": "python",
   "nbconvert_exporter": "python",
   "pygments_lexer": "ipython3",
   "version": "3.7.6"
  },
  "orig_nbformat": 2,
  "kernelspec": {
   "name": "python3",
   "display_name": "Python 3.7.6 64-bit ('base': conda)",
   "metadata": {
    "interpreter": {
     "hash": "9393d49f89acab38bc7ffa46433bff5a7a600778fed02afb790aa0630f908e6c"
    }
   }
  }
 },
 "nbformat": 4,
 "nbformat_minor": 2,
 "cells": [
  {
   "source": [
    "## Entering the original data"
   ],
   "cell_type": "markdown",
   "metadata": {}
  },
  {
   "cell_type": "code",
   "execution_count": 38,
   "metadata": {},
   "outputs": [
    {
     "output_type": "execute_result",
     "data": {
      "text/plain": [
       "array([2.52578   , 1.64818   , 3.53614   , 3.77024   , 3.03878   ,\n",
       "       2.17282   , 3.61704   , 1.14447   , 3.22504   , 0.898248  ,\n",
       "       0.425971  , 0.220322  , 0.99176   , 2.77482   , 0.297059  ,\n",
       "       3.29275   , 1.17992   , 0.0548968 , 0.372537  , 3.32095   ,\n",
       "       1.36388   , 0.660026  , 0.600339  , 1.96118   , 3.47192   ,\n",
       "       1.17839   , 1.97627   , 1.74194   , 0.601494  , 2.23655   ,\n",
       "       3.69288   , 2.31801   , 0.595496  , 1.20761   , 3.08054   ,\n",
       "       0.620748  , 0.331684  , 0.236588  , 0.11068   , 2.6934    ,\n",
       "       1.28877   , 1.44165   , 2.79394   , 0.673241  , 2.33422   ,\n",
       "       3.84081   , 0.947063  , 1.40017   , 0.00884063, 1.05224   ,\n",
       "       3.17933   , 1.62493   , 3.83161   , 1.55869   , 0.781226  ,\n",
       "       3.86125   , 2.70444   , 2.73085   , 0.702521  , 0.0626176 ,\n",
       "       0.902688  , 2.35209   , 1.06757   , 3.17446   , 2.17714   ,\n",
       "       2.22161   , 2.03021   , 2.15154   , 3.32825   , 0.933814  ,\n",
       "       1.11447   , 2.11497   , 1.88246   , 2.85753   , 1.10277   ,\n",
       "       3.48479   , 0.374821  , 1.90361   , 3.68092   , 3.61948   ,\n",
       "       0.56307   , 3.78279   , 2.01534   , 3.53844   , 3.79414   ,\n",
       "       0.776809  , 2.58404   , 3.78578   , 2.93466   , 1.29938   ,\n",
       "       2.92111   , 1.85447   , 1.14261   , 3.75259   , 3.45525   ,\n",
       "       0.260376  , 2.80034   , 1.484     , 2.42392   , 1.212     ])"
      ]
     },
     "metadata": {},
     "execution_count": 38
    }
   ],
   "source": [
    "import pandas as pd\n",
    "from numpy import genfromtxt\n",
    "data = genfromtxt('data.csv', delimiter=',')\n",
    "data\n"
   ]
  },
  {
   "source": [
    "## Computing Pearson CLassification Factor\n",
    "\n",
    "_Note: The moments here are not standardized, I have computed them as they were defined in my course. For general moment analyses, use standardized forms._"
   ],
   "cell_type": "markdown",
   "metadata": {}
  },
  {
   "cell_type": "code",
   "execution_count": 24,
   "metadata": {},
   "outputs": [
    {
     "output_type": "stream",
     "name": "stdout",
     "text": [
      "Pearson Classification Factor: 2.6231084931283686\n"
     ]
    }
   ],
   "source": [
    "from scipy.stats import moment\n",
    "\n",
    "n_data = len(data)\n",
    "\n",
    "moments = [moment(data, i) for i in range(1,5)]\n",
    "B1 = (moments[2]*(n_data)/(n_data - 1))**2/(moments[1]*(n_data)/(n_data-1))**3\n",
    "B2 = (moments[3]*(n_data)/(n_data - 1))/(moments[1]*(n_data)/(n_data - 1))**2\n",
    "pcf = abs(6 + 3*B1 - 2*B2) \n",
    "\n",
    "print(f\"Pearson Classification Factor: {pcf}\")"
   ]
  },
  {
   "source": [
    "## Entering the Indices to be used in CLT"
   ],
   "cell_type": "markdown",
   "metadata": {}
  },
  {
   "cell_type": "code",
   "execution_count": 26,
   "metadata": {},
   "outputs": [
    {
     "output_type": "execute_result",
     "data": {
      "text/plain": [
       "    C0  C1  C2  C3  C4  C5  C6  C7  C8  C9\n",
       "0   92  67  15  83  65  95  38  93   0  59\n",
       "1   20  13  98  80  35  68   3  71  38  28\n",
       "2   86  26  65  91  15  26   3  37  59  17\n",
       "3    9  86  41  97  79   8   7   1  67  51\n",
       "4   55  76  80  79  63  35  61  14  40  87\n",
       "..  ..  ..  ..  ..  ..  ..  ..  ..  ..  ..\n",
       "95  72   0   4   5  40  23   8   0  12  58\n",
       "96  27  41  81  99  97  30  24  53  34  51\n",
       "97   1  62  69  63  89  99  95  84  21  20\n",
       "98  96  80  89  18  47   4  23  17  49  70\n",
       "99  31  52  63  10  91  95  66  41  82   3\n",
       "\n",
       "[100 rows x 10 columns]"
      ],
      "text/html": "<div>\n<style scoped>\n    .dataframe tbody tr th:only-of-type {\n        vertical-align: middle;\n    }\n\n    .dataframe tbody tr th {\n        vertical-align: top;\n    }\n\n    .dataframe thead th {\n        text-align: right;\n    }\n</style>\n<table border=\"1\" class=\"dataframe\">\n  <thead>\n    <tr style=\"text-align: right;\">\n      <th></th>\n      <th>C0</th>\n      <th>C1</th>\n      <th>C2</th>\n      <th>C3</th>\n      <th>C4</th>\n      <th>C5</th>\n      <th>C6</th>\n      <th>C7</th>\n      <th>C8</th>\n      <th>C9</th>\n    </tr>\n  </thead>\n  <tbody>\n    <tr>\n      <th>0</th>\n      <td>92</td>\n      <td>67</td>\n      <td>15</td>\n      <td>83</td>\n      <td>65</td>\n      <td>95</td>\n      <td>38</td>\n      <td>93</td>\n      <td>0</td>\n      <td>59</td>\n    </tr>\n    <tr>\n      <th>1</th>\n      <td>20</td>\n      <td>13</td>\n      <td>98</td>\n      <td>80</td>\n      <td>35</td>\n      <td>68</td>\n      <td>3</td>\n      <td>71</td>\n      <td>38</td>\n      <td>28</td>\n    </tr>\n    <tr>\n      <th>2</th>\n      <td>86</td>\n      <td>26</td>\n      <td>65</td>\n      <td>91</td>\n      <td>15</td>\n      <td>26</td>\n      <td>3</td>\n      <td>37</td>\n      <td>59</td>\n      <td>17</td>\n    </tr>\n    <tr>\n      <th>3</th>\n      <td>9</td>\n      <td>86</td>\n      <td>41</td>\n      <td>97</td>\n      <td>79</td>\n      <td>8</td>\n      <td>7</td>\n      <td>1</td>\n      <td>67</td>\n      <td>51</td>\n    </tr>\n    <tr>\n      <th>4</th>\n      <td>55</td>\n      <td>76</td>\n      <td>80</td>\n      <td>79</td>\n      <td>63</td>\n      <td>35</td>\n      <td>61</td>\n      <td>14</td>\n      <td>40</td>\n      <td>87</td>\n    </tr>\n    <tr>\n      <th>...</th>\n      <td>...</td>\n      <td>...</td>\n      <td>...</td>\n      <td>...</td>\n      <td>...</td>\n      <td>...</td>\n      <td>...</td>\n      <td>...</td>\n      <td>...</td>\n      <td>...</td>\n    </tr>\n    <tr>\n      <th>95</th>\n      <td>72</td>\n      <td>0</td>\n      <td>4</td>\n      <td>5</td>\n      <td>40</td>\n      <td>23</td>\n      <td>8</td>\n      <td>0</td>\n      <td>12</td>\n      <td>58</td>\n    </tr>\n    <tr>\n      <th>96</th>\n      <td>27</td>\n      <td>41</td>\n      <td>81</td>\n      <td>99</td>\n      <td>97</td>\n      <td>30</td>\n      <td>24</td>\n      <td>53</td>\n      <td>34</td>\n      <td>51</td>\n    </tr>\n    <tr>\n      <th>97</th>\n      <td>1</td>\n      <td>62</td>\n      <td>69</td>\n      <td>63</td>\n      <td>89</td>\n      <td>99</td>\n      <td>95</td>\n      <td>84</td>\n      <td>21</td>\n      <td>20</td>\n    </tr>\n    <tr>\n      <th>98</th>\n      <td>96</td>\n      <td>80</td>\n      <td>89</td>\n      <td>18</td>\n      <td>47</td>\n      <td>4</td>\n      <td>23</td>\n      <td>17</td>\n      <td>49</td>\n      <td>70</td>\n    </tr>\n    <tr>\n      <th>99</th>\n      <td>31</td>\n      <td>52</td>\n      <td>63</td>\n      <td>10</td>\n      <td>91</td>\n      <td>95</td>\n      <td>66</td>\n      <td>41</td>\n      <td>82</td>\n      <td>3</td>\n    </tr>\n  </tbody>\n</table>\n<p>100 rows × 10 columns</p>\n</div>"
     },
     "metadata": {},
     "execution_count": 26
    }
   ],
   "source": [
    "idx = pd.read_csv('rand_indices.csv', header=None)\n",
    "idx = idx.rename(columns= lambda s:'C'+ str(s))\n",
    "idx"
   ]
  },
  {
   "source": [
    "## Creating a Normal Sample Using Central Limit Theorem\n",
    "\n",
    "We use CLT to get a normal sample as the Student's theorem can only be used while sampling from a normal dataset. "
   ],
   "cell_type": "markdown",
   "metadata": {}
  },
  {
   "cell_type": "code",
   "execution_count": 53,
   "metadata": {},
   "outputs": [
    {
     "output_type": "execute_result",
     "data": {
      "text/plain": [
       "<matplotlib.axes._subplots.AxesSubplot at 0x7f3501e1b810>"
      ]
     },
     "metadata": {},
     "execution_count": 53
    },
    {
     "output_type": "display_data",
     "data": {
      "text/plain": "<Figure size 432x288 with 1 Axes>",
      "image/svg+xml": "<?xml version=\"1.0\" encoding=\"utf-8\" standalone=\"no\"?>\n<!DOCTYPE svg PUBLIC \"-//W3C//DTD SVG 1.1//EN\"\n  \"http://www.w3.org/Graphics/SVG/1.1/DTD/svg11.dtd\">\n<!-- Created with matplotlib (https://matplotlib.org/) -->\n<svg height=\"248.518125pt\" version=\"1.1\" viewBox=\"0 0 372.103125 248.518125\" width=\"372.103125pt\" xmlns=\"http://www.w3.org/2000/svg\" xmlns:xlink=\"http://www.w3.org/1999/xlink\">\n <defs>\n  <style type=\"text/css\">\n*{stroke-linecap:butt;stroke-linejoin:round;}\n  </style>\n </defs>\n <g id=\"figure_1\">\n  <g id=\"patch_1\">\n   <path d=\"M 0 248.518125 \nL 372.103125 248.518125 \nL 372.103125 0 \nL 0 0 \nz\n\" style=\"fill:none;\"/>\n  </g>\n  <g id=\"axes_1\">\n   <g id=\"patch_2\">\n    <path d=\"M 30.103125 224.64 \nL 364.903125 224.64 \nL 364.903125 7.2 \nL 30.103125 7.2 \nz\n\" style=\"fill:#ffffff;\"/>\n   </g>\n   <g id=\"patch_3\">\n    <path clip-path=\"url(#p85ffd66058)\" d=\"M 93.646615 224.64 \nL 114.417917 224.64 \nL 114.417917 181.497143 \nL 93.646615 181.497143 \nz\n\" style=\"fill:#1f77b4;opacity:0.4;\"/>\n   </g>\n   <g id=\"patch_4\">\n    <path clip-path=\"url(#p85ffd66058)\" d=\"M 114.417917 224.64 \nL 135.189219 224.64 \nL 135.189219 181.497143 \nL 114.417917 181.497143 \nz\n\" style=\"fill:#1f77b4;opacity:0.4;\"/>\n   </g>\n   <g id=\"patch_5\">\n    <path clip-path=\"url(#p85ffd66058)\" d=\"M 135.189219 224.64 \nL 155.960521 224.64 \nL 155.960521 164.24 \nL 135.189219 164.24 \nz\n\" style=\"fill:#1f77b4;opacity:0.4;\"/>\n   </g>\n   <g id=\"patch_6\">\n    <path clip-path=\"url(#p85ffd66058)\" d=\"M 155.960521 224.64 \nL 176.731823 224.64 \nL 176.731823 138.354286 \nL 155.960521 138.354286 \nz\n\" style=\"fill:#1f77b4;opacity:0.4;\"/>\n   </g>\n   <g id=\"patch_7\">\n    <path clip-path=\"url(#p85ffd66058)\" d=\"M 176.731823 224.64 \nL 197.503125 224.64 \nL 197.503125 77.954286 \nL 176.731823 77.954286 \nz\n\" style=\"fill:#1f77b4;opacity:0.4;\"/>\n   </g>\n   <g id=\"patch_8\">\n    <path clip-path=\"url(#p85ffd66058)\" d=\"M 197.503125 224.64 \nL 218.274427 224.64 \nL 218.274427 17.554286 \nL 197.503125 17.554286 \nz\n\" style=\"fill:#1f77b4;opacity:0.4;\"/>\n   </g>\n   <g id=\"patch_9\">\n    <path clip-path=\"url(#p85ffd66058)\" d=\"M 218.274427 224.64 \nL 239.045729 224.64 \nL 239.045729 112.468571 \nL 218.274427 112.468571 \nz\n\" style=\"fill:#1f77b4;opacity:0.4;\"/>\n   </g>\n   <g id=\"patch_10\">\n    <path clip-path=\"url(#p85ffd66058)\" d=\"M 239.045729 224.64 \nL 259.817031 224.64 \nL 259.817031 121.097143 \nL 239.045729 121.097143 \nz\n\" style=\"fill:#1f77b4;opacity:0.4;\"/>\n   </g>\n   <g id=\"patch_11\">\n    <path clip-path=\"url(#p85ffd66058)\" d=\"M 259.817031 224.64 \nL 280.588333 224.64 \nL 280.588333 181.497143 \nL 259.817031 181.497143 \nz\n\" style=\"fill:#1f77b4;opacity:0.4;\"/>\n   </g>\n   <g id=\"patch_12\">\n    <path clip-path=\"url(#p85ffd66058)\" d=\"M 280.588333 224.64 \nL 301.359635 224.64 \nL 301.359635 207.382857 \nL 280.588333 207.382857 \nz\n\" style=\"fill:#1f77b4;opacity:0.4;\"/>\n   </g>\n   <g id=\"matplotlib.axis_1\">\n    <g id=\"xtick_1\">\n     <g id=\"line2d_1\">\n      <defs>\n       <path d=\"M 0 0 \nL 0 3.5 \n\" id=\"m758cc3336f\" style=\"stroke:#000000;stroke-width:0.8;\"/>\n      </defs>\n      <g>\n       <use style=\"stroke:#000000;stroke-width:0.8;\" x=\"41.612049\" xlink:href=\"#m758cc3336f\" y=\"224.64\"/>\n      </g>\n     </g>\n     <g id=\"text_1\">\n      <!-- 0.5 -->\n      <defs>\n       <path d=\"M 31.78125 66.40625 \nQ 24.171875 66.40625 20.328125 58.90625 \nQ 16.5 51.421875 16.5 36.375 \nQ 16.5 21.390625 20.328125 13.890625 \nQ 24.171875 6.390625 31.78125 6.390625 \nQ 39.453125 6.390625 43.28125 13.890625 \nQ 47.125 21.390625 47.125 36.375 \nQ 47.125 51.421875 43.28125 58.90625 \nQ 39.453125 66.40625 31.78125 66.40625 \nz\nM 31.78125 74.21875 \nQ 44.046875 74.21875 50.515625 64.515625 \nQ 56.984375 54.828125 56.984375 36.375 \nQ 56.984375 17.96875 50.515625 8.265625 \nQ 44.046875 -1.421875 31.78125 -1.421875 \nQ 19.53125 -1.421875 13.0625 8.265625 \nQ 6.59375 17.96875 6.59375 36.375 \nQ 6.59375 54.828125 13.0625 64.515625 \nQ 19.53125 74.21875 31.78125 74.21875 \nz\n\" id=\"DejaVuSans-48\"/>\n       <path d=\"M 10.6875 12.40625 \nL 21 12.40625 \nL 21 0 \nL 10.6875 0 \nz\n\" id=\"DejaVuSans-46\"/>\n       <path d=\"M 10.796875 72.90625 \nL 49.515625 72.90625 \nL 49.515625 64.59375 \nL 19.828125 64.59375 \nL 19.828125 46.734375 \nQ 21.96875 47.46875 24.109375 47.828125 \nQ 26.265625 48.1875 28.421875 48.1875 \nQ 40.625 48.1875 47.75 41.5 \nQ 54.890625 34.8125 54.890625 23.390625 \nQ 54.890625 11.625 47.5625 5.09375 \nQ 40.234375 -1.421875 26.90625 -1.421875 \nQ 22.3125 -1.421875 17.546875 -0.640625 \nQ 12.796875 0.140625 7.71875 1.703125 \nL 7.71875 11.625 \nQ 12.109375 9.234375 16.796875 8.0625 \nQ 21.484375 6.890625 26.703125 6.890625 \nQ 35.15625 6.890625 40.078125 11.328125 \nQ 45.015625 15.765625 45.015625 23.390625 \nQ 45.015625 31 40.078125 35.4375 \nQ 35.15625 39.890625 26.703125 39.890625 \nQ 22.75 39.890625 18.8125 39.015625 \nQ 14.890625 38.140625 10.796875 36.28125 \nz\n\" id=\"DejaVuSans-53\"/>\n      </defs>\n      <g transform=\"translate(33.660486 239.238437)scale(0.1 -0.1)\">\n       <use xlink:href=\"#DejaVuSans-48\"/>\n       <use x=\"63.623047\" xlink:href=\"#DejaVuSans-46\"/>\n       <use x=\"95.410156\" xlink:href=\"#DejaVuSans-53\"/>\n      </g>\n     </g>\n    </g>\n    <g id=\"xtick_2\">\n     <g id=\"line2d_2\">\n      <g>\n       <use style=\"stroke:#000000;stroke-width:0.8;\" x=\"97.406136\" xlink:href=\"#m758cc3336f\" y=\"224.64\"/>\n      </g>\n     </g>\n     <g id=\"text_2\">\n      <!-- 1.0 -->\n      <defs>\n       <path d=\"M 12.40625 8.296875 \nL 28.515625 8.296875 \nL 28.515625 63.921875 \nL 10.984375 60.40625 \nL 10.984375 69.390625 \nL 28.421875 72.90625 \nL 38.28125 72.90625 \nL 38.28125 8.296875 \nL 54.390625 8.296875 \nL 54.390625 0 \nL 12.40625 0 \nz\n\" id=\"DejaVuSans-49\"/>\n      </defs>\n      <g transform=\"translate(89.454573 239.238437)scale(0.1 -0.1)\">\n       <use xlink:href=\"#DejaVuSans-49\"/>\n       <use x=\"63.623047\" xlink:href=\"#DejaVuSans-46\"/>\n       <use x=\"95.410156\" xlink:href=\"#DejaVuSans-48\"/>\n      </g>\n     </g>\n    </g>\n    <g id=\"xtick_3\">\n     <g id=\"line2d_3\">\n      <g>\n       <use style=\"stroke:#000000;stroke-width:0.8;\" x=\"153.200223\" xlink:href=\"#m758cc3336f\" y=\"224.64\"/>\n      </g>\n     </g>\n     <g id=\"text_3\">\n      <!-- 1.5 -->\n      <g transform=\"translate(145.24866 239.238437)scale(0.1 -0.1)\">\n       <use xlink:href=\"#DejaVuSans-49\"/>\n       <use x=\"63.623047\" xlink:href=\"#DejaVuSans-46\"/>\n       <use x=\"95.410156\" xlink:href=\"#DejaVuSans-53\"/>\n      </g>\n     </g>\n    </g>\n    <g id=\"xtick_4\">\n     <g id=\"line2d_4\">\n      <g>\n       <use style=\"stroke:#000000;stroke-width:0.8;\" x=\"208.99431\" xlink:href=\"#m758cc3336f\" y=\"224.64\"/>\n      </g>\n     </g>\n     <g id=\"text_4\">\n      <!-- 2.0 -->\n      <defs>\n       <path d=\"M 19.1875 8.296875 \nL 53.609375 8.296875 \nL 53.609375 0 \nL 7.328125 0 \nL 7.328125 8.296875 \nQ 12.9375 14.109375 22.625 23.890625 \nQ 32.328125 33.6875 34.8125 36.53125 \nQ 39.546875 41.84375 41.421875 45.53125 \nQ 43.3125 49.21875 43.3125 52.78125 \nQ 43.3125 58.59375 39.234375 62.25 \nQ 35.15625 65.921875 28.609375 65.921875 \nQ 23.96875 65.921875 18.8125 64.3125 \nQ 13.671875 62.703125 7.8125 59.421875 \nL 7.8125 69.390625 \nQ 13.765625 71.78125 18.9375 73 \nQ 24.125 74.21875 28.421875 74.21875 \nQ 39.75 74.21875 46.484375 68.546875 \nQ 53.21875 62.890625 53.21875 53.421875 \nQ 53.21875 48.921875 51.53125 44.890625 \nQ 49.859375 40.875 45.40625 35.40625 \nQ 44.1875 33.984375 37.640625 27.21875 \nQ 31.109375 20.453125 19.1875 8.296875 \nz\n\" id=\"DejaVuSans-50\"/>\n      </defs>\n      <g transform=\"translate(201.042747 239.238437)scale(0.1 -0.1)\">\n       <use xlink:href=\"#DejaVuSans-50\"/>\n       <use x=\"63.623047\" xlink:href=\"#DejaVuSans-46\"/>\n       <use x=\"95.410156\" xlink:href=\"#DejaVuSans-48\"/>\n      </g>\n     </g>\n    </g>\n    <g id=\"xtick_5\">\n     <g id=\"line2d_5\">\n      <g>\n       <use style=\"stroke:#000000;stroke-width:0.8;\" x=\"264.788397\" xlink:href=\"#m758cc3336f\" y=\"224.64\"/>\n      </g>\n     </g>\n     <g id=\"text_5\">\n      <!-- 2.5 -->\n      <g transform=\"translate(256.836834 239.238437)scale(0.1 -0.1)\">\n       <use xlink:href=\"#DejaVuSans-50\"/>\n       <use x=\"63.623047\" xlink:href=\"#DejaVuSans-46\"/>\n       <use x=\"95.410156\" xlink:href=\"#DejaVuSans-53\"/>\n      </g>\n     </g>\n    </g>\n    <g id=\"xtick_6\">\n     <g id=\"line2d_6\">\n      <g>\n       <use style=\"stroke:#000000;stroke-width:0.8;\" x=\"320.582484\" xlink:href=\"#m758cc3336f\" y=\"224.64\"/>\n      </g>\n     </g>\n     <g id=\"text_6\">\n      <!-- 3.0 -->\n      <defs>\n       <path d=\"M 40.578125 39.3125 \nQ 47.65625 37.796875 51.625 33 \nQ 55.609375 28.21875 55.609375 21.1875 \nQ 55.609375 10.40625 48.1875 4.484375 \nQ 40.765625 -1.421875 27.09375 -1.421875 \nQ 22.515625 -1.421875 17.65625 -0.515625 \nQ 12.796875 0.390625 7.625 2.203125 \nL 7.625 11.71875 \nQ 11.71875 9.328125 16.59375 8.109375 \nQ 21.484375 6.890625 26.8125 6.890625 \nQ 36.078125 6.890625 40.9375 10.546875 \nQ 45.796875 14.203125 45.796875 21.1875 \nQ 45.796875 27.640625 41.28125 31.265625 \nQ 36.765625 34.90625 28.71875 34.90625 \nL 20.21875 34.90625 \nL 20.21875 43.015625 \nL 29.109375 43.015625 \nQ 36.375 43.015625 40.234375 45.921875 \nQ 44.09375 48.828125 44.09375 54.296875 \nQ 44.09375 59.90625 40.109375 62.90625 \nQ 36.140625 65.921875 28.71875 65.921875 \nQ 24.65625 65.921875 20.015625 65.03125 \nQ 15.375 64.15625 9.8125 62.3125 \nL 9.8125 71.09375 \nQ 15.4375 72.65625 20.34375 73.4375 \nQ 25.25 74.21875 29.59375 74.21875 \nQ 40.828125 74.21875 47.359375 69.109375 \nQ 53.90625 64.015625 53.90625 55.328125 \nQ 53.90625 49.265625 50.4375 45.09375 \nQ 46.96875 40.921875 40.578125 39.3125 \nz\n\" id=\"DejaVuSans-51\"/>\n      </defs>\n      <g transform=\"translate(312.630921 239.238437)scale(0.1 -0.1)\">\n       <use xlink:href=\"#DejaVuSans-51\"/>\n       <use x=\"63.623047\" xlink:href=\"#DejaVuSans-46\"/>\n       <use x=\"95.410156\" xlink:href=\"#DejaVuSans-48\"/>\n      </g>\n     </g>\n    </g>\n   </g>\n   <g id=\"matplotlib.axis_2\">\n    <g id=\"ytick_1\">\n     <g id=\"line2d_7\">\n      <defs>\n       <path d=\"M 0 0 \nL -3.5 0 \n\" id=\"ma3511be1d2\" style=\"stroke:#000000;stroke-width:0.8;\"/>\n      </defs>\n      <g>\n       <use style=\"stroke:#000000;stroke-width:0.8;\" x=\"30.103125\" xlink:href=\"#ma3511be1d2\" y=\"224.64\"/>\n      </g>\n     </g>\n     <g id=\"text_7\">\n      <!-- 0.0 -->\n      <g transform=\"translate(7.2 228.439219)scale(0.1 -0.1)\">\n       <use xlink:href=\"#DejaVuSans-48\"/>\n       <use x=\"63.623047\" xlink:href=\"#DejaVuSans-46\"/>\n       <use x=\"95.410156\" xlink:href=\"#DejaVuSans-48\"/>\n      </g>\n     </g>\n    </g>\n    <g id=\"ytick_2\">\n     <g id=\"line2d_8\">\n      <g>\n       <use style=\"stroke:#000000;stroke-width:0.8;\" x=\"30.103125\" xlink:href=\"#ma3511be1d2\" y=\"192.517122\"/>\n      </g>\n     </g>\n     <g id=\"text_8\">\n      <!-- 0.2 -->\n      <g transform=\"translate(7.2 196.316341)scale(0.1 -0.1)\">\n       <use xlink:href=\"#DejaVuSans-48\"/>\n       <use x=\"63.623047\" xlink:href=\"#DejaVuSans-46\"/>\n       <use x=\"95.410156\" xlink:href=\"#DejaVuSans-50\"/>\n      </g>\n     </g>\n    </g>\n    <g id=\"ytick_3\">\n     <g id=\"line2d_9\">\n      <g>\n       <use style=\"stroke:#000000;stroke-width:0.8;\" x=\"30.103125\" xlink:href=\"#ma3511be1d2\" y=\"160.394244\"/>\n      </g>\n     </g>\n     <g id=\"text_9\">\n      <!-- 0.4 -->\n      <defs>\n       <path d=\"M 37.796875 64.3125 \nL 12.890625 25.390625 \nL 37.796875 25.390625 \nz\nM 35.203125 72.90625 \nL 47.609375 72.90625 \nL 47.609375 25.390625 \nL 58.015625 25.390625 \nL 58.015625 17.1875 \nL 47.609375 17.1875 \nL 47.609375 0 \nL 37.796875 0 \nL 37.796875 17.1875 \nL 4.890625 17.1875 \nL 4.890625 26.703125 \nz\n\" id=\"DejaVuSans-52\"/>\n      </defs>\n      <g transform=\"translate(7.2 164.193463)scale(0.1 -0.1)\">\n       <use xlink:href=\"#DejaVuSans-48\"/>\n       <use x=\"63.623047\" xlink:href=\"#DejaVuSans-46\"/>\n       <use x=\"95.410156\" xlink:href=\"#DejaVuSans-52\"/>\n      </g>\n     </g>\n    </g>\n    <g id=\"ytick_4\">\n     <g id=\"line2d_10\">\n      <g>\n       <use style=\"stroke:#000000;stroke-width:0.8;\" x=\"30.103125\" xlink:href=\"#ma3511be1d2\" y=\"128.271367\"/>\n      </g>\n     </g>\n     <g id=\"text_10\">\n      <!-- 0.6 -->\n      <defs>\n       <path d=\"M 33.015625 40.375 \nQ 26.375 40.375 22.484375 35.828125 \nQ 18.609375 31.296875 18.609375 23.390625 \nQ 18.609375 15.53125 22.484375 10.953125 \nQ 26.375 6.390625 33.015625 6.390625 \nQ 39.65625 6.390625 43.53125 10.953125 \nQ 47.40625 15.53125 47.40625 23.390625 \nQ 47.40625 31.296875 43.53125 35.828125 \nQ 39.65625 40.375 33.015625 40.375 \nz\nM 52.59375 71.296875 \nL 52.59375 62.3125 \nQ 48.875 64.0625 45.09375 64.984375 \nQ 41.3125 65.921875 37.59375 65.921875 \nQ 27.828125 65.921875 22.671875 59.328125 \nQ 17.53125 52.734375 16.796875 39.40625 \nQ 19.671875 43.65625 24.015625 45.921875 \nQ 28.375 48.1875 33.59375 48.1875 \nQ 44.578125 48.1875 50.953125 41.515625 \nQ 57.328125 34.859375 57.328125 23.390625 \nQ 57.328125 12.15625 50.6875 5.359375 \nQ 44.046875 -1.421875 33.015625 -1.421875 \nQ 20.359375 -1.421875 13.671875 8.265625 \nQ 6.984375 17.96875 6.984375 36.375 \nQ 6.984375 53.65625 15.1875 63.9375 \nQ 23.390625 74.21875 37.203125 74.21875 \nQ 40.921875 74.21875 44.703125 73.484375 \nQ 48.484375 72.75 52.59375 71.296875 \nz\n\" id=\"DejaVuSans-54\"/>\n      </defs>\n      <g transform=\"translate(7.2 132.070585)scale(0.1 -0.1)\">\n       <use xlink:href=\"#DejaVuSans-48\"/>\n       <use x=\"63.623047\" xlink:href=\"#DejaVuSans-46\"/>\n       <use x=\"95.410156\" xlink:href=\"#DejaVuSans-54\"/>\n      </g>\n     </g>\n    </g>\n    <g id=\"ytick_5\">\n     <g id=\"line2d_11\">\n      <g>\n       <use style=\"stroke:#000000;stroke-width:0.8;\" x=\"30.103125\" xlink:href=\"#ma3511be1d2\" y=\"96.148489\"/>\n      </g>\n     </g>\n     <g id=\"text_11\">\n      <!-- 0.8 -->\n      <defs>\n       <path d=\"M 31.78125 34.625 \nQ 24.75 34.625 20.71875 30.859375 \nQ 16.703125 27.09375 16.703125 20.515625 \nQ 16.703125 13.921875 20.71875 10.15625 \nQ 24.75 6.390625 31.78125 6.390625 \nQ 38.8125 6.390625 42.859375 10.171875 \nQ 46.921875 13.96875 46.921875 20.515625 \nQ 46.921875 27.09375 42.890625 30.859375 \nQ 38.875 34.625 31.78125 34.625 \nz\nM 21.921875 38.8125 \nQ 15.578125 40.375 12.03125 44.71875 \nQ 8.5 49.078125 8.5 55.328125 \nQ 8.5 64.0625 14.71875 69.140625 \nQ 20.953125 74.21875 31.78125 74.21875 \nQ 42.671875 74.21875 48.875 69.140625 \nQ 55.078125 64.0625 55.078125 55.328125 \nQ 55.078125 49.078125 51.53125 44.71875 \nQ 48 40.375 41.703125 38.8125 \nQ 48.828125 37.15625 52.796875 32.3125 \nQ 56.78125 27.484375 56.78125 20.515625 \nQ 56.78125 9.90625 50.3125 4.234375 \nQ 43.84375 -1.421875 31.78125 -1.421875 \nQ 19.734375 -1.421875 13.25 4.234375 \nQ 6.78125 9.90625 6.78125 20.515625 \nQ 6.78125 27.484375 10.78125 32.3125 \nQ 14.796875 37.15625 21.921875 38.8125 \nz\nM 18.3125 54.390625 \nQ 18.3125 48.734375 21.84375 45.5625 \nQ 25.390625 42.390625 31.78125 42.390625 \nQ 38.140625 42.390625 41.71875 45.5625 \nQ 45.3125 48.734375 45.3125 54.390625 \nQ 45.3125 60.0625 41.71875 63.234375 \nQ 38.140625 66.40625 31.78125 66.40625 \nQ 25.390625 66.40625 21.84375 63.234375 \nQ 18.3125 60.0625 18.3125 54.390625 \nz\n\" id=\"DejaVuSans-56\"/>\n      </defs>\n      <g transform=\"translate(7.2 99.947708)scale(0.1 -0.1)\">\n       <use xlink:href=\"#DejaVuSans-48\"/>\n       <use x=\"63.623047\" xlink:href=\"#DejaVuSans-46\"/>\n       <use x=\"95.410156\" xlink:href=\"#DejaVuSans-56\"/>\n      </g>\n     </g>\n    </g>\n    <g id=\"ytick_6\">\n     <g id=\"line2d_12\">\n      <g>\n       <use style=\"stroke:#000000;stroke-width:0.8;\" x=\"30.103125\" xlink:href=\"#ma3511be1d2\" y=\"64.025611\"/>\n      </g>\n     </g>\n     <g id=\"text_12\">\n      <!-- 1.0 -->\n      <g transform=\"translate(7.2 67.82483)scale(0.1 -0.1)\">\n       <use xlink:href=\"#DejaVuSans-49\"/>\n       <use x=\"63.623047\" xlink:href=\"#DejaVuSans-46\"/>\n       <use x=\"95.410156\" xlink:href=\"#DejaVuSans-48\"/>\n      </g>\n     </g>\n    </g>\n    <g id=\"ytick_7\">\n     <g id=\"line2d_13\">\n      <g>\n       <use style=\"stroke:#000000;stroke-width:0.8;\" x=\"30.103125\" xlink:href=\"#ma3511be1d2\" y=\"31.902733\"/>\n      </g>\n     </g>\n     <g id=\"text_13\">\n      <!-- 1.2 -->\n      <g transform=\"translate(7.2 35.701952)scale(0.1 -0.1)\">\n       <use xlink:href=\"#DejaVuSans-49\"/>\n       <use x=\"63.623047\" xlink:href=\"#DejaVuSans-46\"/>\n       <use x=\"95.410156\" xlink:href=\"#DejaVuSans-50\"/>\n      </g>\n     </g>\n    </g>\n   </g>\n   <g id=\"line2d_14\">\n    <path clip-path=\"url(#p85ffd66058)\" d=\"M 45.321307 224.521777 \nL 52.510999 224.323903 \nL 57.304127 223.964963 \nL 62.097255 223.282748 \nL 64.493819 222.768454 \nL 66.890383 222.108115 \nL 69.286947 221.279582 \nL 71.683512 220.263788 \nL 74.080076 219.047078 \nL 76.47664 217.623516 \nL 78.873204 215.99681 \nL 81.269768 214.181488 \nL 86.062896 210.096311 \nL 100.44228 197.043691 \nL 114.821665 185.051603 \nL 119.614793 180.578113 \nL 126.804485 173.65234 \nL 129.201049 171.499578 \nL 131.597613 169.519422 \nL 133.994177 167.748853 \nL 136.390741 166.19925 \nL 138.787305 164.85067 \nL 148.373562 159.962514 \nL 150.770126 158.290696 \nL 153.16669 156.182136 \nL 155.563254 153.527105 \nL 157.959818 150.243082 \nL 160.356382 146.281598 \nL 162.752946 141.631756 \nL 165.14951 136.320337 \nL 167.546074 130.408854 \nL 169.942638 123.988246 \nL 174.735766 110.089731 \nL 181.925459 88.634064 \nL 184.322023 81.87519 \nL 186.718587 75.533401 \nL 189.115151 69.731475 \nL 191.511715 64.584596 \nL 193.908279 60.199184 \nL 196.304843 56.670926 \nL 198.701407 54.08178 \nL 201.097971 52.496004 \nL 203.494535 51.955525 \nL 205.891099 52.475215 \nL 208.287663 54.038823 \nL 210.684227 56.596363 \nL 213.080791 60.063695 \nL 215.477355 64.324828 \nL 217.87392 69.237154 \nL 220.270484 74.639428 \nL 225.063612 86.237714 \nL 229.85674 97.863074 \nL 232.253304 103.388386 \nL 234.649868 108.630987 \nL 237.046432 113.569584 \nL 239.442996 118.218054 \nL 244.236124 126.838298 \nL 253.822381 143.368325 \nL 258.615509 152.199358 \nL 263.408637 161.531284 \nL 270.598329 175.731374 \nL 275.391457 184.599503 \nL 277.788021 188.676106 \nL 280.184585 192.459023 \nL 282.581149 195.924904 \nL 284.977713 199.06566 \nL 287.374277 201.887394 \nL 289.770842 204.408162 \nL 292.167406 206.654887 \nL 294.56397 208.659826 \nL 296.960534 210.457001 \nL 299.357098 212.079002 \nL 304.150226 214.906373 \nL 308.943354 217.300155 \nL 313.736482 219.325824 \nL 318.52961 220.988667 \nL 323.322738 222.280842 \nL 328.115867 223.216196 \nL 332.908995 223.840655 \nL 337.702123 224.221933 \nL 344.891815 224.487926 \nL 349.684943 224.532257 \nL 349.684943 224.532257 \n\" style=\"fill:none;stroke:#1f77b4;stroke-linecap:square;stroke-width:1.5;\"/>\n   </g>\n   <g id=\"patch_13\">\n    <path d=\"M 30.103125 224.64 \nL 30.103125 7.2 \n\" style=\"fill:none;stroke:#000000;stroke-linecap:square;stroke-linejoin:miter;stroke-width:0.8;\"/>\n   </g>\n   <g id=\"patch_14\">\n    <path d=\"M 364.903125 224.64 \nL 364.903125 7.2 \n\" style=\"fill:none;stroke:#000000;stroke-linecap:square;stroke-linejoin:miter;stroke-width:0.8;\"/>\n   </g>\n   <g id=\"patch_15\">\n    <path d=\"M 30.103125 224.64 \nL 364.903125 224.64 \n\" style=\"fill:none;stroke:#000000;stroke-linecap:square;stroke-linejoin:miter;stroke-width:0.8;\"/>\n   </g>\n   <g id=\"patch_16\">\n    <path d=\"M 30.103125 7.2 \nL 364.903125 7.2 \n\" style=\"fill:none;stroke:#000000;stroke-linecap:square;stroke-linejoin:miter;stroke-width:0.8;\"/>\n   </g>\n  </g>\n </g>\n <defs>\n  <clipPath id=\"p85ffd66058\">\n   <rect height=\"217.44\" width=\"334.8\" x=\"30.103125\" y=\"7.2\"/>\n  </clipPath>\n </defs>\n</svg>\n",
      "image/png": "[encoded data removed]"
     },
     "metadata": {
      "needs_background": "light"
     }
    }
   ],
   "source": [
    "import numpy as np\n",
    "import seaborn as sns\n",
    "from scipy.stats import anderson\n",
    "sample = []\n",
    "for i in range(100):\n",
    "    sample.append(np.sum(data[idx.iloc[i]])/len(idx.iloc[i]))\n",
    "sns.distplot(sample)"
   ]
  },
  {
   "source": [
    "## Anderson-Darling Test for Normality"
   ],
   "cell_type": "markdown",
   "metadata": {}
  },
  {
   "cell_type": "code",
   "execution_count": 56,
   "metadata": {},
   "outputs": [
    {
     "output_type": "stream",
     "name": "stdout",
     "text": [
      "Sampled distribution is normal\n"
     ]
    }
   ],
   "source": [
    "stat, cv, sigs = anderson(sample)\n",
    "if stat < cv[2]: # For significance level of 0.05\n",
    "    print(\"Sampled distribution is normal\")\n",
    "else:\n",
    "    print(\"Sampled distribution is NOT normal\")"
   ]
  },
  {
   "source": [
    "## Finding Mean and Variance Ranges using Student's t Theorem\n",
    "\n"
   ],
   "cell_type": "markdown",
   "metadata": {}
  },
  {
   "cell_type": "code",
   "execution_count": 77,
   "metadata": {},
   "outputs": [
    {
     "output_type": "stream",
     "name": "stdout",
     "text": [
      "Population Mean: 1.9486206603000003\nPopulation Variance: 1.3866697777345505\nMean range: (1.8029802135983015, 2.0109182567616983)\nVar range: (1.1162103891316917, 2.3325551949755052)\n"
     ]
    }
   ],
   "source": [
    "from scipy.stats import t, chi2\n",
    "\n",
    "alpha = 0.01\n",
    "n_samp = len(sample)\n",
    "dof = n_samp - 1\n",
    "pop_mean = np.mean(data)\n",
    "pop_var = np.var(data)\n",
    "\n",
    "print(f\"Population Mean: {pop_mean}\")\n",
    "print(f\"Population Variance: {pop_var}\")\n",
    "\n",
    "tv = t.ppf(1-alpha/2, dof)\n",
    "\n",
    "samp_mean = np.mean(sample)\n",
    "samp_std = np.std(sample, ddof=1)\n",
    "samp_var = np.var(sample, ddof=1)\n",
    "\n",
    "mean_range = (samp_mean - tv*samp_std/np.sqrt(n_samp), samp_mean + tv*samp_std/np.sqrt(n_samp))\n",
    "var_range = ((n_samp - 1)*samp_var*10/chi2.ppf(1-alpha/2, dof), (n_samp - 1)*samp_var*10/chi2.ppf(alpha/2, dof))\n",
    "\n",
    "print(f\"Mean range: {mean_range}\")\n",
    "print(f\"Var range: {var_range}\")\n"
   ]
  },
  {
   "cell_type": "code",
   "execution_count": null,
   "metadata": {},
   "outputs": [],
   "source": []
  }
 ]
}