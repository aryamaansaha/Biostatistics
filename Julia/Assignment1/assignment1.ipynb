{
 "cells": [
  {
   "cell_type": "markdown",
   "metadata": {},
   "source": [
    "## Entering Data"
   ]
  },
  {
   "cell_type": "code",
   "execution_count": 1,
   "metadata": {
    "scrolled": true
   },
   "outputs": [
    {
     "data": {
      "text/html": [
       "<table class=\"data-frame\"><thead><tr><th></th><th>Column1</th></tr><tr><th></th><th>Float64</th></tr></thead><tbody><p>100 rows × 1 columns</p><tr><th>1</th><td>2.52578</td></tr><tr><th>2</th><td>1.64818</td></tr><tr><th>3</th><td>3.53614</td></tr><tr><th>4</th><td>3.77024</td></tr><tr><th>5</th><td>3.03878</td></tr><tr><th>6</th><td>2.17282</td></tr><tr><th>7</th><td>3.61704</td></tr><tr><th>8</th><td>1.14447</td></tr><tr><th>9</th><td>3.22504</td></tr><tr><th>10</th><td>0.898248</td></tr><tr><th>11</th><td>0.425971</td></tr><tr><th>12</th><td>0.220322</td></tr><tr><th>13</th><td>0.99176</td></tr><tr><th>14</th><td>2.77482</td></tr><tr><th>15</th><td>0.297059</td></tr><tr><th>16</th><td>3.29275</td></tr><tr><th>17</th><td>1.17992</td></tr><tr><th>18</th><td>0.0548968</td></tr><tr><th>19</th><td>0.372537</td></tr><tr><th>20</th><td>3.32095</td></tr><tr><th>21</th><td>1.36388</td></tr><tr><th>22</th><td>0.660026</td></tr><tr><th>23</th><td>0.600339</td></tr><tr><th>24</th><td>1.96118</td></tr><tr><th>25</th><td>3.47192</td></tr><tr><th>26</th><td>1.17839</td></tr><tr><th>27</th><td>1.97627</td></tr><tr><th>28</th><td>1.74194</td></tr><tr><th>29</th><td>0.601494</td></tr><tr><th>30</th><td>2.23655</td></tr><tr><th>&vellip;</th><td>&vellip;</td></tr></tbody></table>"
      ],
      "text/latex": [
       "\\begin{tabular}{r|c}\n",
       "\t& Column1\\\\\n",
       "\t\\hline\n",
       "\t& Float64\\\\\n",
       "\t\\hline\n",
       "\t1 & 2.52578 \\\\\n",
       "\t2 & 1.64818 \\\\\n",
       "\t3 & 3.53614 \\\\\n",
       "\t4 & 3.77024 \\\\\n",
       "\t5 & 3.03878 \\\\\n",
       "\t6 & 2.17282 \\\\\n",
       "\t7 & 3.61704 \\\\\n",
       "\t8 & 1.14447 \\\\\n",
       "\t9 & 3.22504 \\\\\n",
       "\t10 & 0.898248 \\\\\n",
       "\t11 & 0.425971 \\\\\n",
       "\t12 & 0.220322 \\\\\n",
       "\t13 & 0.99176 \\\\\n",
       "\t14 & 2.77482 \\\\\n",
       "\t15 & 0.297059 \\\\\n",
       "\t16 & 3.29275 \\\\\n",
       "\t17 & 1.17992 \\\\\n",
       "\t18 & 0.0548968 \\\\\n",
       "\t19 & 0.372537 \\\\\n",
       "\t20 & 3.32095 \\\\\n",
       "\t21 & 1.36388 \\\\\n",
       "\t22 & 0.660026 \\\\\n",
       "\t23 & 0.600339 \\\\\n",
       "\t24 & 1.96118 \\\\\n",
       "\t25 & 3.47192 \\\\\n",
       "\t26 & 1.17839 \\\\\n",
       "\t27 & 1.97627 \\\\\n",
       "\t28 & 1.74194 \\\\\n",
       "\t29 & 0.601494 \\\\\n",
       "\t30 & 2.23655 \\\\\n",
       "\t$\\dots$ & $\\dots$ \\\\\n",
       "\\end{tabular}\n"
      ],
      "text/plain": [
       "\u001b[1m100×1 DataFrame\u001b[0m\n",
       "\u001b[1m Row \u001b[0m│\u001b[1m Column1  \u001b[0m\n",
       "\u001b[1m     \u001b[0m│\u001b[90m Float64  \u001b[0m\n",
       "─────┼──────────\n",
       "   1 │ 2.52578\n",
       "   2 │ 1.64818\n",
       "   3 │ 3.53614\n",
       "   4 │ 3.77024\n",
       "   5 │ 3.03878\n",
       "   6 │ 2.17282\n",
       "   7 │ 3.61704\n",
       "   8 │ 1.14447\n",
       "   9 │ 3.22504\n",
       "  10 │ 0.898248\n",
       "  11 │ 0.425971\n",
       "  ⋮  │    ⋮\n",
       "  91 │ 2.92111\n",
       "  92 │ 1.85447\n",
       "  93 │ 1.14261\n",
       "  94 │ 3.75259\n",
       "  95 │ 3.45525\n",
       "  96 │ 0.260376\n",
       "  97 │ 2.80034\n",
       "  98 │ 1.484\n",
       "  99 │ 2.42392\n",
       " 100 │ 1.212\n",
       "\u001b[36m 79 rows omitted\u001b[0m"
      ]
     },
     "execution_count": 1,
     "metadata": {},
     "output_type": "execute_result"
    }
   ],
   "source": [
    "using DataFrames, CSV, Statistics\n",
    "\n",
    "df = CSV.read(\"data.csv\", DataFrame, header=false) # More Pythonic\n",
    "# df = DataFrame(CSV.File(\"data.csv\", header=false)) # Also works\n"
   ]
  },
  {
   "cell_type": "markdown",
   "metadata": {},
   "source": [
    "## Computing Pearson Classification Factor\n",
    "_Note: The moments here are not standardized, I have computed them as they were defined in my course. For general moment analyses, use standardized forms._\n"
   ]
  },
  {
   "cell_type": "code",
   "execution_count": 2,
   "metadata": {},
   "outputs": [
    {
     "name": "stdout",
     "output_type": "stream",
     "text": [
      "Pearson Classification Factor: 2.6231084931283677\n"
     ]
    }
   ],
   "source": [
    "data = df[!, \"Column1\"];\n",
    "N_data = length(data)\n",
    "M1 = Statistics.mean(data)\n",
    "X = data .- M1\n",
    "M2 = sum(X.^2)/(N_data-1)\n",
    "M3 = sum(X.^3)/(N_data-1)\n",
    "M4 = sum(X.^4)/(N_data-1)\n",
    "\n",
    "B1 = (M3^2)/ M2^3\n",
    "B2 = M4 / M2^2\n",
    "PCF = 6 + 3*B1 - 2*B2\n",
    "\n",
    "println(\"Pearson Classification Factor: $PCF\")"
   ]
  },
  {
   "cell_type": "markdown",
   "metadata": {},
   "source": [
    "## Entering Indices to be used in CLT\n",
    "Added 1 to each index as counting starts from 1 in Julia"
   ]
  },
  {
   "cell_type": "code",
   "execution_count": 3,
   "metadata": {},
   "outputs": [
    {
     "data": {
      "text/html": [
       "<table class=\"data-frame\"><thead><tr><th></th><th>Column1</th><th>Column2</th><th>Column3</th><th>Column4</th><th>Column5</th><th>Column6</th><th>Column7</th><th>Column8</th><th>Column9</th></tr><tr><th></th><th>Int64</th><th>Int64</th><th>Int64</th><th>Int64</th><th>Int64</th><th>Int64</th><th>Int64</th><th>Int64</th><th>Int64</th></tr></thead><tbody><p>100 rows × 10 columns (omitted printing of 1 columns)</p><tr><th>1</th><td>93</td><td>68</td><td>16</td><td>84</td><td>66</td><td>96</td><td>39</td><td>94</td><td>1</td></tr><tr><th>2</th><td>21</td><td>14</td><td>99</td><td>81</td><td>36</td><td>69</td><td>4</td><td>72</td><td>39</td></tr><tr><th>3</th><td>87</td><td>27</td><td>66</td><td>92</td><td>16</td><td>27</td><td>4</td><td>38</td><td>60</td></tr><tr><th>4</th><td>10</td><td>87</td><td>42</td><td>98</td><td>80</td><td>9</td><td>8</td><td>2</td><td>68</td></tr><tr><th>5</th><td>56</td><td>77</td><td>81</td><td>80</td><td>64</td><td>36</td><td>62</td><td>15</td><td>41</td></tr><tr><th>6</th><td>80</td><td>48</td><td>93</td><td>92</td><td>50</td><td>5</td><td>86</td><td>47</td><td>2</td></tr><tr><th>7</th><td>18</td><td>97</td><td>78</td><td>5</td><td>46</td><td>17</td><td>99</td><td>5</td><td>67</td></tr><tr><th>8</th><td>9</td><td>66</td><td>82</td><td>83</td><td>55</td><td>76</td><td>81</td><td>15</td><td>35</td></tr><tr><th>9</th><td>19</td><td>95</td><td>41</td><td>29</td><td>20</td><td>19</td><td>13</td><td>10</td><td>62</td></tr><tr><th>10</th><td>55</td><td>47</td><td>64</td><td>18</td><td>65</td><td>49</td><td>100</td><td>75</td><td>30</td></tr><tr><th>11</th><td>88</td><td>43</td><td>97</td><td>37</td><td>56</td><td>42</td><td>33</td><td>10</td><td>67</td></tr><tr><th>12</th><td>17</td><td>86</td><td>96</td><td>87</td><td>13</td><td>6</td><td>86</td><td>82</td><td>43</td></tr><tr><th>13</th><td>83</td><td>10</td><td>96</td><td>73</td><td>78</td><td>17</td><td>60</td><td>91</td><td>29</td></tr><tr><th>14</th><td>95</td><td>10</td><td>36</td><td>85</td><td>22</td><td>14</td><td>90</td><td>33</td><td>15</td></tr><tr><th>15</th><td>29</td><td>44</td><td>98</td><td>85</td><td>54</td><td>81</td><td>4</td><td>23</td><td>34</td></tr><tr><th>16</th><td>6</td><td>20</td><td>32</td><td>71</td><td>31</td><td>25</td><td>57</td><td>21</td><td>58</td></tr><tr><th>17</th><td>69</td><td>33</td><td>48</td><td>85</td><td>43</td><td>25</td><td>62</td><td>96</td><td>90</td></tr><tr><th>18</th><td>62</td><td>45</td><td>2</td><td>75</td><td>90</td><td>88</td><td>17</td><td>45</td><td>74</td></tr><tr><th>19</th><td>91</td><td>91</td><td>88</td><td>18</td><td>77</td><td>1</td><td>30</td><td>60</td><td>1</td></tr><tr><th>20</th><td>31</td><td>74</td><td>52</td><td>32</td><td>95</td><td>99</td><td>26</td><td>76</td><td>21</td></tr><tr><th>21</th><td>81</td><td>11</td><td>75</td><td>18</td><td>20</td><td>33</td><td>58</td><td>63</td><td>43</td></tr><tr><th>22</th><td>85</td><td>61</td><td>91</td><td>30</td><td>27</td><td>62</td><td>57</td><td>42</td><td>100</td></tr><tr><th>23</th><td>70</td><td>84</td><td>72</td><td>16</td><td>64</td><td>18</td><td>52</td><td>76</td><td>41</td></tr><tr><th>24</th><td>83</td><td>45</td><td>25</td><td>94</td><td>15</td><td>33</td><td>57</td><td>75</td><td>51</td></tr><tr><th>25</th><td>5</td><td>50</td><td>34</td><td>33</td><td>19</td><td>88</td><td>76</td><td>74</td><td>69</td></tr><tr><th>26</th><td>97</td><td>24</td><td>97</td><td>60</td><td>5</td><td>54</td><td>47</td><td>95</td><td>21</td></tr><tr><th>27</th><td>88</td><td>63</td><td>65</td><td>88</td><td>8</td><td>14</td><td>72</td><td>70</td><td>53</td></tr><tr><th>28</th><td>44</td><td>3</td><td>100</td><td>78</td><td>21</td><td>99</td><td>78</td><td>61</td><td>55</td></tr><tr><th>29</th><td>90</td><td>99</td><td>18</td><td>32</td><td>46</td><td>83</td><td>69</td><td>96</td><td>91</td></tr><tr><th>30</th><td>5</td><td>42</td><td>83</td><td>93</td><td>72</td><td>67</td><td>6</td><td>58</td><td>39</td></tr><tr><th>&vellip;</th><td>&vellip;</td><td>&vellip;</td><td>&vellip;</td><td>&vellip;</td><td>&vellip;</td><td>&vellip;</td><td>&vellip;</td><td>&vellip;</td><td>&vellip;</td></tr></tbody></table>"
      ],
      "text/latex": [
       "\\begin{tabular}{r|cccccccccc}\n",
       "\t& Column1 & Column2 & Column3 & Column4 & Column5 & Column6 & Column7 & Column8 & Column9 & \\\\\n",
       "\t\\hline\n",
       "\t& Int64 & Int64 & Int64 & Int64 & Int64 & Int64 & Int64 & Int64 & Int64 & \\\\\n",
       "\t\\hline\n",
       "\t1 & 93 & 68 & 16 & 84 & 66 & 96 & 39 & 94 & 1 & $\\dots$ \\\\\n",
       "\t2 & 21 & 14 & 99 & 81 & 36 & 69 & 4 & 72 & 39 & $\\dots$ \\\\\n",
       "\t3 & 87 & 27 & 66 & 92 & 16 & 27 & 4 & 38 & 60 & $\\dots$ \\\\\n",
       "\t4 & 10 & 87 & 42 & 98 & 80 & 9 & 8 & 2 & 68 & $\\dots$ \\\\\n",
       "\t5 & 56 & 77 & 81 & 80 & 64 & 36 & 62 & 15 & 41 & $\\dots$ \\\\\n",
       "\t6 & 80 & 48 & 93 & 92 & 50 & 5 & 86 & 47 & 2 & $\\dots$ \\\\\n",
       "\t7 & 18 & 97 & 78 & 5 & 46 & 17 & 99 & 5 & 67 & $\\dots$ \\\\\n",
       "\t8 & 9 & 66 & 82 & 83 & 55 & 76 & 81 & 15 & 35 & $\\dots$ \\\\\n",
       "\t9 & 19 & 95 & 41 & 29 & 20 & 19 & 13 & 10 & 62 & $\\dots$ \\\\\n",
       "\t10 & 55 & 47 & 64 & 18 & 65 & 49 & 100 & 75 & 30 & $\\dots$ \\\\\n",
       "\t11 & 88 & 43 & 97 & 37 & 56 & 42 & 33 & 10 & 67 & $\\dots$ \\\\\n",
       "\t12 & 17 & 86 & 96 & 87 & 13 & 6 & 86 & 82 & 43 & $\\dots$ \\\\\n",
       "\t13 & 83 & 10 & 96 & 73 & 78 & 17 & 60 & 91 & 29 & $\\dots$ \\\\\n",
       "\t14 & 95 & 10 & 36 & 85 & 22 & 14 & 90 & 33 & 15 & $\\dots$ \\\\\n",
       "\t15 & 29 & 44 & 98 & 85 & 54 & 81 & 4 & 23 & 34 & $\\dots$ \\\\\n",
       "\t16 & 6 & 20 & 32 & 71 & 31 & 25 & 57 & 21 & 58 & $\\dots$ \\\\\n",
       "\t17 & 69 & 33 & 48 & 85 & 43 & 25 & 62 & 96 & 90 & $\\dots$ \\\\\n",
       "\t18 & 62 & 45 & 2 & 75 & 90 & 88 & 17 & 45 & 74 & $\\dots$ \\\\\n",
       "\t19 & 91 & 91 & 88 & 18 & 77 & 1 & 30 & 60 & 1 & $\\dots$ \\\\\n",
       "\t20 & 31 & 74 & 52 & 32 & 95 & 99 & 26 & 76 & 21 & $\\dots$ \\\\\n",
       "\t21 & 81 & 11 & 75 & 18 & 20 & 33 & 58 & 63 & 43 & $\\dots$ \\\\\n",
       "\t22 & 85 & 61 & 91 & 30 & 27 & 62 & 57 & 42 & 100 & $\\dots$ \\\\\n",
       "\t23 & 70 & 84 & 72 & 16 & 64 & 18 & 52 & 76 & 41 & $\\dots$ \\\\\n",
       "\t24 & 83 & 45 & 25 & 94 & 15 & 33 & 57 & 75 & 51 & $\\dots$ \\\\\n",
       "\t25 & 5 & 50 & 34 & 33 & 19 & 88 & 76 & 74 & 69 & $\\dots$ \\\\\n",
       "\t26 & 97 & 24 & 97 & 60 & 5 & 54 & 47 & 95 & 21 & $\\dots$ \\\\\n",
       "\t27 & 88 & 63 & 65 & 88 & 8 & 14 & 72 & 70 & 53 & $\\dots$ \\\\\n",
       "\t28 & 44 & 3 & 100 & 78 & 21 & 99 & 78 & 61 & 55 & $\\dots$ \\\\\n",
       "\t29 & 90 & 99 & 18 & 32 & 46 & 83 & 69 & 96 & 91 & $\\dots$ \\\\\n",
       "\t30 & 5 & 42 & 83 & 93 & 72 & 67 & 6 & 58 & 39 & $\\dots$ \\\\\n",
       "\t$\\dots$ & $\\dots$ & $\\dots$ & $\\dots$ & $\\dots$ & $\\dots$ & $\\dots$ & $\\dots$ & $\\dots$ & $\\dots$ &  \\\\\n",
       "\\end{tabular}\n"
      ],
      "text/plain": [
       "\u001b[1m100×10 DataFrame\u001b[0m\n",
       "\u001b[1m Row \u001b[0m│\u001b[1m Column1 \u001b[0m\u001b[1m Column2 \u001b[0m\u001b[1m Column3 \u001b[0m\u001b[1m Column4 \u001b[0m\u001b[1m Column5 \u001b[0m\u001b[1m Column6 \u001b[0m\u001b[1m Column7 \u001b[0m\u001b[1m Column8 \u001b[0m\u001b[1m\u001b[0m ⋯\n",
       "\u001b[1m     \u001b[0m│\u001b[90m Int64   \u001b[0m\u001b[90m Int64   \u001b[0m\u001b[90m Int64   \u001b[0m\u001b[90m Int64   \u001b[0m\u001b[90m Int64   \u001b[0m\u001b[90m Int64   \u001b[0m\u001b[90m Int64   \u001b[0m\u001b[90m Int64   \u001b[0m\u001b[90m\u001b[0m ⋯\n",
       "─────┼──────────────────────────────────────────────────────────────────────────\n",
       "   1 │      93       68       16       84       66       96       39       94  ⋯\n",
       "   2 │      21       14       99       81       36       69        4       72\n",
       "   3 │      87       27       66       92       16       27        4       38\n",
       "   4 │      10       87       42       98       80        9        8        2\n",
       "   5 │      56       77       81       80       64       36       62       15  ⋯\n",
       "   6 │      80       48       93       92       50        5       86       47\n",
       "   7 │      18       97       78        5       46       17       99        5\n",
       "   8 │       9       66       82       83       55       76       81       15\n",
       "   9 │      19       95       41       29       20       19       13       10  ⋯\n",
       "  10 │      55       47       64       18       65       49      100       75\n",
       "  11 │      88       43       97       37       56       42       33       10\n",
       "  ⋮  │    ⋮        ⋮        ⋮        ⋮        ⋮        ⋮        ⋮        ⋮     ⋱\n",
       "  91 │      18       15       37       37       63       83       20       47\n",
       "  92 │      48       83       74        2       48       78       61       74  ⋯\n",
       "  93 │      64       78       26       16       71       90       68       16\n",
       "  94 │      47       18       66       94       33       31       81       88\n",
       "  95 │      39       95       36       89       50       41       29       49\n",
       "  96 │      73        1        5        6       41       24        9        1  ⋯\n",
       "  97 │      28       42       82      100       98       31       25       54\n",
       "  98 │       2       63       70       64       90      100       96       85\n",
       "  99 │      97       81       90       19       48        5       24       18\n",
       " 100 │      32       53       64       11       92       96       67       42  ⋯\n",
       "\u001b[36m                                                   2 columns and 79 rows omitted\u001b[0m"
      ]
     },
     "execution_count": 3,
     "metadata": {},
     "output_type": "execute_result"
    }
   ],
   "source": [
    "indices = CSV.read(\"rand_indices.csv\", DataFrame, header=false) .+ 1"
   ]
  },
  {
   "cell_type": "markdown",
   "metadata": {},
   "source": [
    "## Creating a Normal Sample Using Central Limit Theorem\n",
    "We use CLT to get a normal sample as the Student's theorem can only be used while sampling from a normal dataset."
   ]
  },
  {
   "cell_type": "code",
   "execution_count": 31,
   "metadata": {},
   "outputs": [],
   "source": [
    "sample = Float64[]\n",
    "for row in eachrow(indices)\n",
    "    idx = convert(Array, row)\n",
    "    push!(sample, sum(data[idx])/length(data[idx]))\n",
    "end"
   ]
  },
  {
   "cell_type": "markdown",
   "metadata": {},
   "source": [
    "## Anderson-Darling Test for Normality"
   ]
  },
  {
   "cell_type": "code",
   "execution_count": 50,
   "metadata": {},
   "outputs": [
    {
     "data": {
      "text/plain": [
       "One sample Anderson-Darling test\n",
       "--------------------------------\n",
       "Population details:\n",
       "    parameter of interest:   not implemented yet\n",
       "    value under h_0:         NaN\n",
       "    point estimate:          NaN\n",
       "\n",
       "Test summary:\n",
       "    outcome with 95% confidence: fail to reject h_0\n",
       "    one-sided p-value:           0.7109\n",
       "\n",
       "Details:\n",
       "    number of observations:   100\n",
       "    sample mean:              1.90694923518\n",
       "    sample SD:                0.3958605147157846\n",
       "    A² statistic:             0.5351155626707904\n"
      ]
     },
     "execution_count": 50,
     "metadata": {},
     "output_type": "execute_result"
    }
   ],
   "source": [
    "using HypothesisTests\n",
    "\n",
    "samp_mean = mean(sample)\n",
    "samp_var = var(sample, corrected=true)\n",
    "samp_std = std(sample, corrected=true)\n",
    "\n",
    "OneSampleADTest(sample, Normal(samp_mean, samp_std))"
   ]
  },
  {
   "cell_type": "markdown",
   "metadata": {},
   "source": [
    "## Finding Mean and Variance Ranges using Student's t Theorem"
   ]
  },
  {
   "cell_type": "code",
   "execution_count": 54,
   "metadata": {},
   "outputs": [
    {
     "name": "stdout",
     "output_type": "stream",
     "text": [
      "Population Mean: 1.9486206603\n",
      "Population Variance: 1.3866697777345502\n",
      "Mean Range: (1.8029802135628465, 2.0109182567971535)\n",
      "Variance Range: (1.1162103891316923, 2.3325551949755052)\n"
     ]
    }
   ],
   "source": [
    "using Distributions\n",
    "\n",
    "pop_mean = mean(data)\n",
    "pop_var = var(data, corrected=false)\n",
    "\n",
    "println(\"Population Mean: $pop_mean\")\n",
    "println(\"Population Variance: $pop_var\")\n",
    "\n",
    "N_samp = length(sample)\n",
    "\n",
    "alpha = 0.01\n",
    "t = TDist(99)\n",
    "chi2 = Chisq(99)\n",
    "tinv = quantile(t, 1-alpha/2)\n",
    "\n",
    "mean_range = (samp_mean - abs(tinv)*samp_std/sqrt(N_samp), samp_mean + abs(tinv)*samp_std/sqrt(N_samp))\n",
    "var_range = ((N_samp-1)*samp_var*10/quantile(chi2, 1-alpha/2), (N_samp-1)*samp_var*10/quantile(chi2, alpha/2))\n",
    "\n",
    "println(\"Mean Range: $mean_range\")\n",
    "println(\"Variance Range: $var_range\")"
   ]
  },
  {
   "cell_type": "code",
   "execution_count": null,
   "metadata": {},
   "outputs": [],
   "source": []
  }
 ],
 "metadata": {
  "kernelspec": {
   "display_name": "Julia 1.6.0",
   "language": "julia",
   "name": "julia-1.6"
  },
  "language_info": {
   "file_extension": ".jl",
   "mimetype": "application/julia",
   "name": "julia",
   "version": "1.6.0"
  }
 },
 "nbformat": 4,
 "nbformat_minor": 4
}
